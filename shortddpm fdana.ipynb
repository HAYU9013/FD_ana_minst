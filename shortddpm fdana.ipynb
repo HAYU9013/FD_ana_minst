{
 "cells": [
  {
   "cell_type": "code",
   "execution_count": 4,
   "metadata": {
    "execution": {
     "iopub.execute_input": "2025-04-17T11:55:43.562454Z",
     "iopub.status.busy": "2025-04-17T11:55:43.561636Z",
     "iopub.status.idle": "2025-04-17T11:55:43.572358Z",
     "shell.execute_reply": "2025-04-17T11:55:43.571586Z",
     "shell.execute_reply.started": "2025-04-17T11:55:43.562421Z"
    },
    "executionInfo": {
     "elapsed": 4690,
     "status": "ok",
     "timestamp": 1731337555361,
     "user": {
      "displayName": "劉浩元",
      "userId": "11236515194746078036"
     },
     "user_tz": -480
    },
    "id": "vBtmG0lkj28A",
    "outputId": "b802a373-18e6-471c-ebcb-1cbefcce1ca8",
    "trusted": true
   },
   "outputs": [],
   "source": [
    "import math\n",
    "import matplotlib.pyplot as plt\n",
    "import numpy as np\n",
    "import torch\n",
    "from torch.utils.data import Subset\n",
    "from collections import defaultdict\n",
    "import random\n",
    "\n",
    "\n",
    "def show_tensor_images_grid(tensor_data, printImg=False):\n",
    "    \"\"\"\n",
    "    將 PyTorch tensor 中的圖片以灰階顯示，橫軸圖片數量從 [1, 2, 4, 8, 16] 中自動選擇最適合的數量。\n",
    "    :param tensor_data: 要顯示的 PyTorch tensor, 預期形狀為 (batch, channels, height, width)\n",
    "    :param printImg: 是否顯示圖片 (默認 True)\n",
    "    \"\"\"\n",
    "    if not printImg:\n",
    "        return\n",
    "\n",
    "    # 確保 tensor 在 CPU，並轉換為 numpy\n",
    "    tensor_data = tensor_data.detach().cpu().numpy()\n",
    "\n",
    "    # 檢查資料的形狀 (batch, channels, height, width)\n",
    "    batch_size, channels, height, width = tensor_data.shape\n",
    "\n",
    "    # 橫軸候選值\n",
    "    candidates = [1, 2, 4, 8, 16]\n",
    "    # 選擇最適合的橫軸數量，使總行數最小\n",
    "    images_per_row = min(candidates, key=lambda x: math.ceil(batch_size / x))\n",
    "\n",
    "    # 計算行數\n",
    "    num_rows = math.ceil(batch_size / images_per_row)\n",
    "\n",
    "    # 建立圖表\n",
    "    fig, axes = plt.subplots(num_rows, images_per_row, figsize=(images_per_row, num_rows))\n",
    "    axes = np.array(axes).reshape(num_rows, images_per_row)  # 確保 axes 是矩陣結構\n",
    "\n",
    "    for i in range(num_rows * images_per_row):\n",
    "        row, col = divmod(i, images_per_row)\n",
    "        ax = axes[row, col]\n",
    "\n",
    "        if i < batch_size:\n",
    "            img = tensor_data[i]\n",
    "\n",
    "            # 如果是 RGB 圖片（3 通道），轉換為灰階（使用第一個通道）\n",
    "            if channels == 3:\n",
    "                img = img[0]  # 使用第一個通道\n",
    "            elif channels == 1:  # 單通道（灰階）\n",
    "                img = img.squeeze(0)\n",
    "\n",
    "            # 顯示圖片\n",
    "            ax.imshow(img, cmap=\"gray\")\n",
    "        ax.axis(\"off\")  # 隱藏座標軸\n",
    "\n",
    "    plt.tight_layout()\n",
    "    plt.show()\n",
    "\n",
    "\n",
    "# 測試範例\n",
    "if __name__ == \"__main__\":\n",
    "    # 模擬一個隨機的 80x3x32x32 圖像資料並放到 GPU 上\n",
    "    sample_data = torch.randn(32, 3, 32, 32).cuda()  # 放到 GPU\n",
    "    show_tensor_images_grid(sample_data)\n"
   ]
  },
  {
   "cell_type": "code",
   "execution_count": null,
   "metadata": {
    "trusted": true
   },
   "outputs": [],
   "source": []
  },
  {
   "cell_type": "markdown",
   "metadata": {
    "id": "HhscLb4_GTDm"
   },
   "source": [
    "# Config"
   ]
  },
  {
   "cell_type": "code",
   "execution_count": 5,
   "metadata": {
    "execution": {
     "iopub.execute_input": "2025-04-17T11:55:43.574079Z",
     "iopub.status.busy": "2025-04-17T11:55:43.573781Z",
     "iopub.status.idle": "2025-04-17T11:55:43.586545Z",
     "shell.execute_reply": "2025-04-17T11:55:43.585780Z",
     "shell.execute_reply.started": "2025-04-17T11:55:43.574054Z"
    },
    "executionInfo": {
     "elapsed": 3,
     "status": "ok",
     "timestamp": 1731338069565,
     "user": {
      "displayName": "劉浩元",
      "userId": "11236515194746078036"
     },
     "user_tz": -480
    },
    "id": "v9XVwxQ4GSK3",
    "trusted": true
   },
   "outputs": [],
   "source": [
    "def set_config(args, custom_dataset=\"haha\"):\n",
    "    available_dataaset = ['Imagenet', 'CIFAR10', 'MNIST']\n",
    "    if custom_dataset not in available_dataaset:\n",
    "        ValueError(f'{custom_dataset} is not availabel, please select from {available_dataaset}')\n",
    "    if custom_dataset == 'Imagenet':\n",
    "        print(f\"Config : {custom_dataset}\")\n",
    "        model_config = {\n",
    "            \"dataset\" : args['dataset'],\n",
    "            \"state\": args['state'],#\"train\", # or eval\n",
    "            \"epoch\": args['epochs'],\n",
    "            \"batch_size\": args['batch_size'],\n",
    "            \"T\": 1000,\n",
    "            \"channel\": 128,\n",
    "            \"channel_mult\": [1, 2, 3, 4],\n",
    "            \"attn\": [2],\n",
    "            \"num_res_blocks\": 2,\n",
    "            \"dropout\": 0.15,\n",
    "            \"lr\": 1e-4,\n",
    "            \"multiplier\": 2.,\n",
    "            \"beta_1\": 1e-4,\n",
    "            \"beta_T\": 0.02,\n",
    "            \"img_size\": 128,\n",
    "            \"grad_clip\": 1.,\n",
    "            \"device\": \"cuda:0\", ### MAKE SURE YOU HAVE A GPU !!!\n",
    "            \"training_load_weight\": f\"{args['split_class']}_ckpt_{args['load_training_checkpoint']}_.pt\",\n",
    "            \"save_weight_dir\": \"./Checkpoints\" + args['dataset'] + \"/\",\n",
    "            \"test_load_weight\": f\"{str(args['split_class'])}_ckpt_{args['load_training_checkpoint']+args['epochs']-1}_.pt\",\n",
    "            \"sampled_dir\": \"./SampledImgs\" + args['dataset'] +\"/\",\n",
    "            \"sampledNoisyImgName\": f\"NoisyNoGuidenceImgs{args['load_training_checkpoint']+args['epochs']-1}.png\",\n",
    "            \"sampledImgName\": f\"SampledNoGuidenceImgs{args['load_training_checkpoint']+args['epochs']-1}.png\",\n",
    "            \"nrow\": 8\n",
    "        }\n",
    "    if custom_dataset == 'CIFAR10':\n",
    "        print(f\"Config : {custom_dataset}\")\n",
    "        model_config = {\n",
    "            \"dataset\" : args['dataset'],\n",
    "            \"state\": args['state'],#\"train\", # or eval\n",
    "            \"epoch\": args['epochs'],\n",
    "            \"batch_size\": args['batch_size'],\n",
    "            \"T\": 1000,\n",
    "            \"channel\": 128,\n",
    "            \"channel_mult\": [1, 2, 3, 4],\n",
    "            \"attn\": [2],\n",
    "            \"num_res_blocks\": 2,\n",
    "            \"dropout\": 0.15,\n",
    "            \"lr\": 1e-4,\n",
    "            \"multiplier\": 2.,\n",
    "            \"beta_1\": 1e-4,\n",
    "            \"beta_T\": 0.02,\n",
    "            \"img_size\": 128,\n",
    "            \"grad_clip\": 1.,\n",
    "            \"device\": \"cuda:0\", ### MAKE SURE YOU HAVE A GPU !!!\n",
    "            \"training_load_weight\": f\"{str(args['split_class'])}_ckpt_{args['load_training_checkpoint']}_.pt\",\n",
    "            \"save_weight_dir\": \"./Checkpoints\" + args['dataset'] + \"/\",\n",
    "            \"test_load_weight\": f\"{str(args['split_class'])}_ckpt_{args['load_training_checkpoint']+args['epochs']-1}_.pt\",\n",
    "            \"sampled_dir\": \"./SampledImgs\" + args['dataset'] +\"/\",\n",
    "            \"sampledNoisyImgName\": f\"NoisyNoGuidenceImgs{args['load_training_checkpoint']+args['epochs']-1}.png\",\n",
    "            \"sampledImgName\": f\"SampledNoGuidenceImgs{args['load_training_checkpoint']+args['epochs']-1}.png\",\n",
    "            \"nrow\": 8\n",
    "        }\n",
    "    if custom_dataset == 'MNIST':\n",
    "        print(f\"Config : {custom_dataset}\")\n",
    "        model_config = {\n",
    "            \"dataset\" : args['dataset'],\n",
    "            \"state\": args['state'],#\"train\", # or eval\n",
    "            \"epoch\": args['epochs'],\n",
    "            \"batch_size\": args['batch_size'],\n",
    "            \"T\": 1000,\n",
    "            \"channel\": 128,\n",
    "            \"channel_mult\": [1, 2, 3, 4],\n",
    "            \"attn\": [2],\n",
    "            \"num_res_blocks\": 2,\n",
    "            \"dropout\": 0.15,\n",
    "            \"lr\": 1e-4,\n",
    "            \"multiplier\": 2.,\n",
    "            \"beta_1\": 1e-4,\n",
    "            \"beta_T\": 0.02,\n",
    "            \"img_size\": 128,\n",
    "            \"grad_clip\": 1.,\n",
    "            \"device\": \"cuda:0\", ### MAKE SURE YOU HAVE A GPU !!!\n",
    "            \"training_load_weight\": f\"{str(args['split_class'])}_ckpt_{args['load_training_checkpoint']}_.pt\",\n",
    "            \"save_weight_dir\": \"./Checkpoints\" + args['dataset'] + \"/\",\n",
    "#             \"test_load_weight\": f\"{str(args['split_class'])}_ckpt_{args['load_training_checkpoint']+args['epochs']-1}_.pt\",\n",
    "            \"test_load_weight\": args[\"test_load_weight\"],\n",
    "            \"sampled_dir\": \"./SampledImgs\" + args['dataset'] +\"/\",\n",
    "            \"sampledNoisyImgName\": f\"NoisyNoGuidenceImgs{args['load_training_checkpoint']+args['epochs']-1}.png\",\n",
    "            \"sampledImgName\": f\"SampledNoGuidenceImgs{args['load_training_checkpoint']+args['epochs']-1}.png\",\n",
    "            \"nrow\": 8\n",
    "        }\n",
    "\n",
    "    return model_config"
   ]
  },
  {
   "cell_type": "markdown",
   "metadata": {
    "id": "ksWdTRSCGVMl"
   },
   "source": [
    "# Dataset"
   ]
  },
  {
   "cell_type": "code",
   "execution_count": 6,
   "metadata": {
    "execution": {
     "iopub.execute_input": "2025-04-17T11:55:43.752443Z",
     "iopub.status.busy": "2025-04-17T11:55:43.752188Z",
     "iopub.status.idle": "2025-04-17T11:55:43.768989Z",
     "shell.execute_reply": "2025-04-17T11:55:43.768114Z",
     "shell.execute_reply.started": "2025-04-17T11:55:43.752419Z"
    },
    "executionInfo": {
     "elapsed": 4,
     "status": "ok",
     "timestamp": 1731338070888,
     "user": {
      "displayName": "劉浩元",
      "userId": "11236515194746078036"
     },
     "user_tz": -480
    },
    "id": "uW3LzIr_GQel",
    "trusted": true
   },
   "outputs": [],
   "source": [
    "import torchvision\n",
    "from torchvision import transforms\n",
    "from torchvision.datasets import CIFAR10, MNIST\n",
    "from torch.utils.data import Dataset, DataLoader, Subset\n",
    "\n",
    "def load_dataset():\n",
    "\n",
    "    DatasetTransform = transforms.Compose([\n",
    "        transforms.Resize(64),\n",
    "        transforms.CenterCrop(48),\n",
    "        transforms.ToTensor(),\n",
    "        #transforms.Normalize(mean=[0.485, 0.456, 0.406], std=[0.229, 0.224, 0.225]),\n",
    "])\n",
    "\n",
    "    \"\"\"\n",
    "    if curr_dataset == 'CIFAR10':\n",
    "        train_dataset = CIFAR10(root='./CIFAR10_ds', train=True, download=True, transform=DatasetTransform)\n",
    "        test_dataset = CIFAR10(root='./CIFAR10_ds', train=False, download=True, transform=DatasetTransform)\n",
    "        #train_dataloader = DataLoader(train_dataset, batch_size=args.batch_size, shuffle=True)\n",
    "        #test_dataloader = DataLoader(test_dataset, batch_size=args.batch_size, shuffle=False)\n",
    "    \"\"\"\n",
    "    #elif curr_dataset == 'ImageNet':\n",
    "    train_dataset = torchvision.datasets.ImageFolder(root='./imagenet-mini/train', transform=DatasetTransform)\n",
    "    test_dataset = torchvision.datasets.ImageFolder(root='./imagenet-mini/val', transform=DatasetTransform)\n",
    "    #train_dataloader = DataLoader(train_dataset, batch_size=args.batch_size, shuffle=True)\n",
    "    #test_dataloader = DataLoader(test_dataset, batch_size=args.batch_size, shuffle=False)\n",
    "    \"\"\"\n",
    "    elif curr_dataset == 'CelebA':\n",
    "        train_dataset = torchvision.datasets.ImageFolder(root='celeba/train', transform=DatasetTransform)\n",
    "        test_dataset = torchvision.datasets.ImageFolder(root='celeba/val', transform=DatasetTransform)\n",
    "\n",
    "    else:\n",
    "        SyntaxError('Unrecongnize dataaset.')\n",
    "    \"\"\"\n",
    "\n",
    "    return train_dataset, test_dataset\n",
    "\n",
    "\n",
    "\n",
    "class CUSTOM_DATASET:\n",
    "    def __init__(self, args):\n",
    "\n",
    "        self.curr_dataset = args['dataset']\n",
    "        self.split_class = args['split_class']\n",
    "        self.split_flag = True if args['split_class'] else False\n",
    "\n",
    "    def load_dataset(self):\n",
    "        CIFAR10_DatasetTransform = transforms.Compose([\n",
    "            transforms.Resize((32,32)),\n",
    "            transforms.RandomCrop((26,26)),\n",
    "            transforms.Resize((32,32)),\n",
    "            transforms.RandomHorizontalFlip(p=0.5),\n",
    "            #transforms.ColorJitter(brightness=0.2),\n",
    "            #transforms.RandomGrayscale(p=0.2),\n",
    "            transforms.ToTensor(),\n",
    "            #transforms.Normalize((0.4914, 0.4822, 0.4465), (0.247, 0.243, 0.261)),\n",
    "            transforms.Normalize((0.4914, 0.4822, 0.4465), (0.5, 0.5, 0.5)),\n",
    "            ])\n",
    "\n",
    "        MNIST_DatasetTransform = transforms.Compose([\n",
    "            transforms.Resize(32),\n",
    "            torchvision.transforms.Grayscale(num_output_channels=3),\n",
    "            transforms.ToTensor(),\n",
    "            ])\n",
    "\n",
    "        Imagenet_DatasetTransform = transforms.Compose([\n",
    "        transforms.Resize(64),\n",
    "        transforms.CenterCrop(48),\n",
    "        transforms.ToTensor(),\n",
    "        transforms.Normalize(mean=[0.485, 0.456, 0.406], std=[0.229, 0.224, 0.225]),\n",
    "])\n",
    "\n",
    "        if self.curr_dataset == 'MNIST':\n",
    "            train_dataset = MNIST(root='./MNIST_ds', train=True, download=True, transform=MNIST_DatasetTransform)\n",
    "            test_dataset = MNIST(root='./MNIST_ds', train=False, download=True, transform=MNIST_DatasetTransform)\n",
    "\n",
    "            # 只要特定的數字類別\n",
    "            ## train_dataset = [data for data in train_dataset if data[1] in [1, 6, 8]]\n",
    "            ## test_dataset = [data for data in test_dataset if data[1] in [1, 6, 8]]\n",
    "\n",
    "            #train_dataloader = DataLoader(train_dataset, batch_size=args.batch_size, shuffle=True)\n",
    "            #test_dataloader = DataLoader(test_dataset, batch_size=args.batch_size, shuffle=False)\n",
    "\n",
    "        if self.curr_dataset == 'CIFAR10':\n",
    "            train_dataset = CIFAR10(root='./CIFAR10_ds', train=True, download=True, transform=CIFAR10_DatasetTransform)\n",
    "            test_dataset = CIFAR10(root='./CIFAR10_ds', train=False, download=True, transform=CIFAR10_DatasetTransform)\n",
    "            #train_dataloader = DataLoader(train_dataset, batch_size=args.batch_size, shuffle=True)\n",
    "            #test_dataloader = DataLoader(test_dataset, batch_size=args.batch_size, shuffle=False)\n",
    "\n",
    "        elif self.curr_dataset == 'Imagenet':\n",
    "            train_dataset = torchvision.datasets.ImageFolder(root='tiny-imagenet/train', transform=Imagenet_DatasetTransform)\n",
    "            test_dataset = torchvision.datasets.ImageFolder(root='tiny-imagenet/val', transform=Imagenet_DatasetTransform)\n",
    "            #train_dataloader = DataLoader(train_dataset, batch_size=args.batch_size, shuffle=True)\n",
    "            #test_dataloader = DataLoader(test_dataset, batch_size=args.batch_size, shuffle=False)\n",
    "\n",
    "        #elif self.curr_dataset == 'CelebA':\n",
    "            #train_dataset = torchvision.datasets.ImageFolder(root='celeba/train', transform=DatasetTransform)\n",
    "            #test_dataset = torchvision.datasets.ImageFolder(root='celeba/val', transform=DatasetTransform)\n",
    "\n",
    "        else:\n",
    "            SyntaxError('Unrecongnize dataaset.')\n",
    "\n",
    "        # 過濾只留我們要的內容\n",
    "        if self.split_flag:\n",
    "            train_dataset, test_dataset = self.__split_dataset(train_dataset, test_dataset, self.split_class)\n",
    "\n",
    "\n",
    "        return train_dataset, test_dataset\n",
    "        \n",
    "    def __split_dataset(self, train_dataset, test_dataset, split_class):\n",
    "        # 設定目標樣本數\n",
    "        class_target_counts = {\n",
    "            0: 800,\n",
    "            1: 400,\n",
    "            2: 200\n",
    "        }\n",
    "    \n",
    "        def select_indices(dataset, name=\"\"):\n",
    "            from collections import defaultdict\n",
    "            import random\n",
    "            label_to_indices = defaultdict(list)\n",
    "    \n",
    "            for i, (x, label) in enumerate(dataset):\n",
    "                label_to_indices[label].append(i)\n",
    "    \n",
    "            print(f\"[{name}] 原始各類別樣本數：\")\n",
    "            for cls in sorted(label_to_indices.keys()):\n",
    "                print(f\"  Class {cls}: {len(label_to_indices[cls])}\")\n",
    "    \n",
    "            selected_idx = []\n",
    "            for cls, indices in label_to_indices.items():\n",
    "                if cls in class_target_counts:\n",
    "                    desired = min(len(indices), class_target_counts[cls])\n",
    "                else:\n",
    "                    desired = min(len(indices), 100)  # 其他類別各 100\n",
    "                sampled = random.sample(indices, desired)\n",
    "                selected_idx.extend(sampled)\n",
    "                print(f\"[{name}] 選取 Class {cls}: {desired} / {len(indices)}\")\n",
    "    \n",
    "            print(f\"[{name}] 最終樣本總數：{len(selected_idx)}\\n\")\n",
    "            return selected_idx\n",
    "    \n",
    "        train_idx = select_indices(train_dataset, name=\"Train\")\n",
    "        test_idx = select_indices(test_dataset, name=\"Test\")\n",
    "    \n",
    "        new_train_dataset = Subset(train_dataset, train_idx)\n",
    "        new_test_dataset = Subset(test_dataset, test_idx)\n",
    "    \n",
    "        return new_train_dataset, new_test_dataset\n"
   ]
  },
  {
   "cell_type": "markdown",
   "metadata": {
    "id": "spRvb5vuGXgt"
   },
   "source": [
    "# Model"
   ]
  },
  {
   "cell_type": "markdown",
   "metadata": {},
   "source": [
    "## AnalyzeRawData"
   ]
  },
  {
   "cell_type": "code",
   "execution_count": 7,
   "metadata": {
    "execution": {
     "iopub.execute_input": "2025-04-17T11:55:43.771523Z",
     "iopub.status.busy": "2025-04-17T11:55:43.770778Z",
     "iopub.status.idle": "2025-04-17T11:55:43.780023Z",
     "shell.execute_reply": "2025-04-17T11:55:43.779300Z",
     "shell.execute_reply.started": "2025-04-17T11:55:43.771483Z"
    },
    "trusted": true
   },
   "outputs": [
    {
     "name": "stdout",
     "output_type": "stream",
     "text": [
      "init analyze Raw Data\n",
      "clean analyze Raw Data\n"
     ]
    }
   ],
   "source": [
    "class AnalyzeRawData:\n",
    "    def __init__(self):\n",
    "        self.eps = []\n",
    "        self.img = []\n",
    "        self.hsapce = []\n",
    "        self.mean = []\n",
    "        self.var = []\n",
    "        self.config = \"\"\n",
    "        print(\"init analyze Raw Data\")\n",
    "    def clean(self):\n",
    "        self.eps = []\n",
    "        self.img = []\n",
    "        self.hsapce = []\n",
    "        self.mean = []\n",
    "        self.var = []\n",
    "        self.config = \"\"\n",
    "        print(\"clean analyze Raw Data\")\n",
    "\n",
    "# Create an instance of the class\n",
    "analyzer = AnalyzeRawData()\n",
    "analyzer.clean()"
   ]
  },
  {
   "cell_type": "markdown",
   "metadata": {},
   "source": [
    "## GaussianDiffusionTrainer"
   ]
  },
  {
   "cell_type": "code",
   "execution_count": 8,
   "metadata": {
    "execution": {
     "iopub.execute_input": "2025-04-17T11:55:43.781046Z",
     "iopub.status.busy": "2025-04-17T11:55:43.780817Z",
     "iopub.status.idle": "2025-04-17T11:55:43.791230Z",
     "shell.execute_reply": "2025-04-17T11:55:43.790475Z",
     "shell.execute_reply.started": "2025-04-17T11:55:43.781023Z"
    },
    "trusted": true
   },
   "outputs": [],
   "source": [
    "from torch.optim.lr_scheduler import _LRScheduler\n",
    "\n",
    "import torch\n",
    "import torch.nn as nn\n",
    "import torch.nn.functional as F\n",
    "\n",
    "import numpy as np\n",
    "\n",
    "import math\n",
    "import torch\n",
    "from torch import nn\n",
    "from torch.nn import init\n",
    "from torch.nn import functional as F\n",
    "\n",
    "\n",
    "\n",
    "\n",
    "# Scheduler\n",
    "class GradualWarmupScheduler(_LRScheduler):\n",
    "    def __init__(self, optimizer, multiplier, warm_epoch, after_scheduler=None):\n",
    "        self.multiplier = multiplier\n",
    "        self.total_epoch = warm_epoch\n",
    "        self.after_scheduler = after_scheduler\n",
    "        self.finished = False\n",
    "        self.last_epoch = None\n",
    "        self.base_lrs = None\n",
    "        super().__init__(optimizer)\n",
    "\n",
    "    def get_lr(self):\n",
    "        if self.last_epoch > self.total_epoch:\n",
    "            if self.after_scheduler:\n",
    "                if not self.finished:\n",
    "                    self.after_scheduler.base_lrs = [base_lr * self.multiplier for base_lr in self.base_lrs]\n",
    "                    self.finished = True\n",
    "                return self.after_scheduler.get_lr()\n",
    "            return [base_lr * self.multiplier for base_lr in self.base_lrs]\n",
    "        return [base_lr * ((self.multiplier - 1.) * self.last_epoch / self.total_epoch + 1.) for base_lr in self.base_lrs]\n",
    "\n",
    "\n",
    "    def step(self, epoch=None, metrics=None):\n",
    "        if self.finished and self.after_scheduler:\n",
    "            if epoch is None:\n",
    "                self.after_scheduler.step(None)\n",
    "            else:\n",
    "                self.after_scheduler.step(epoch - self.total_epoch)\n",
    "        else:\n",
    "            return super(GradualWarmupScheduler, self).step(epoch)\n",
    "\n",
    "\n",
    "# Diffusion\n",
    "# def extract(v, t, x_shape):\n",
    "#     \"\"\"\n",
    "#     Extract some coefficients at specified timesteps, then reshape to\n",
    "#     [batch_size, 1, 1, 1, 1, ...] for broadcasting purposes.\n",
    "#     \"\"\"\n",
    "#     device = t.device\n",
    "#     out = torch.gather(v, index=t, dim=0).float().to(device)\n",
    "#     return out.view([t.shape[0]] + [1] * (len(x_shape) - 1))\n",
    "\n",
    "def extract(v, t, x_shape):\n",
    "    \"\"\"\n",
    "    Extract coefficients at specified timesteps with device handling.\n",
    "    \"\"\"\n",
    "    device = t.device\n",
    "    # Ensure v is on the same device as t\n",
    "    v = v.to(device)\n",
    "    \n",
    "    # Ensure t is within bounds\n",
    "    t = torch.clamp(t, 0, v.shape[0]-1)\n",
    "    \n",
    "    out = torch.gather(v, index=t, dim=0).float()\n",
    "    return out.view([t.shape[0]] + [1] * (len(x_shape) - 1))\n",
    "\n"
   ]
  },
  {
   "cell_type": "code",
   "execution_count": 9,
   "metadata": {
    "execution": {
     "iopub.execute_input": "2025-04-17T11:55:43.792207Z",
     "iopub.status.busy": "2025-04-17T11:55:43.792000Z",
     "iopub.status.idle": "2025-04-17T11:55:43.804559Z",
     "shell.execute_reply": "2025-04-17T11:55:43.803854Z",
     "shell.execute_reply.started": "2025-04-17T11:55:43.792185Z"
    },
    "trusted": true
   },
   "outputs": [],
   "source": [
    "\n",
    "class GaussianDiffusionTrainer(nn.Module):\n",
    "    def __init__(self, model, beta_1, beta_T, T):\n",
    "        super().__init__()\n",
    "\n",
    "        self.model = model\n",
    "        self.T = T\n",
    "\n",
    "        self.register_buffer(\n",
    "            'betas', torch.linspace(beta_1, beta_T, T).double())\n",
    "        alphas = 1. - self.betas\n",
    "        alphas_bar = torch.cumprod(alphas, dim=0)\n",
    "\n",
    "        # calculations for diffusion q(x_t | x_{t-1}) and others\n",
    "        self.register_buffer(\n",
    "            'sqrt_alphas_bar', torch.sqrt(alphas_bar))\n",
    "        self.register_buffer(\n",
    "            'sqrt_one_minus_alphas_bar', torch.sqrt(1. - alphas_bar))\n",
    "\n",
    "    def forward(self, x_0, t = None):\n",
    "        \"\"\"\n",
    "        Algorithm 1.\n",
    "        \"\"\"\n",
    "        if t is None:\n",
    "            t = torch.randint(self.T, size=(x_0.shape[0], ), device=x_0.device)\n",
    "        noise = torch.randn_like(x_0)\n",
    "        x_t = (\n",
    "            # 公式，算噪音加上圖片\n",
    "            extract(self.sqrt_alphas_bar, t, x_0.shape) * x_0 +\n",
    "            extract(self.sqrt_one_minus_alphas_bar, t, x_0.shape) * noise)\n",
    "#         print(\"ready to show image\")\n",
    "\n",
    "        show_tensor_images_grid(x_t)\n",
    "        model_result = self.model(x_t, t)\n",
    "#         print(\"ready to show model result\")\n",
    "        show_tensor_images_grid(model_result)\n",
    "        # 生成噪音家圖片，經過模型出來的預測噪聲和原本的噪音做比較\n",
    "        # loss = F.mse_loss(self.model(x_t, t), noise, reduction='none')\n",
    "        loss = F.mse_loss(model_result, noise, reduction='none')\n",
    "        return loss\n"
   ]
  },
  {
   "cell_type": "code",
   "execution_count": 10,
   "metadata": {
    "execution": {
     "iopub.execute_input": "2025-04-17T11:55:43.807273Z",
     "iopub.status.busy": "2025-04-17T11:55:43.806868Z",
     "iopub.status.idle": "2025-04-17T11:55:43.821777Z",
     "shell.execute_reply": "2025-04-17T11:55:43.821116Z",
     "shell.execute_reply.started": "2025-04-17T11:55:43.807240Z"
    },
    "trusted": true
   },
   "outputs": [],
   "source": [
    "\n",
    "class GaussianDiffusionSampler(nn.Module):\n",
    "    def __init__(self, model, beta_1, beta_T, T, fromT=1000, endT=0):\n",
    "        super().__init__()\n",
    "\n",
    "        self.model = model\n",
    "        self.T = T\n",
    "        self.fromT = fromT # 大的\n",
    "        self.endT = endT# 小的\n",
    "        self.register_buffer('betas', torch.linspace(beta_1, beta_T, T).double())\n",
    "        alphas = 1. - self.betas\n",
    "        alphas_bar = torch.cumprod(alphas, dim=0)\n",
    "        alphas_bar_prev = F.pad(alphas_bar, [1, 0], value=1)[:T]\n",
    "\n",
    "        self.register_buffer('coeff1', torch.sqrt(1. / alphas))\n",
    "        self.register_buffer('coeff2', self.coeff1 * (1. - alphas) / torch.sqrt(1. - alphas_bar))\n",
    "\n",
    "        self.register_buffer('posterior_var', self.betas * (1. - alphas_bar_prev) / (1. - alphas_bar))\n",
    "        self.timestep_h_space = []\n",
    "\n",
    "\n",
    "    def predict_xt_prev_mean_from_eps(self, x_t, t, eps):\n",
    "        assert x_t.shape == eps.shape\n",
    "        return (\n",
    "            extract(self.coeff1, t, x_t.shape) * x_t -\n",
    "            extract(self.coeff2, t, x_t.shape) * eps\n",
    "        )\n",
    "\n",
    "    def p_mean_variance(self, x_t, t):\n",
    "        # below: only log_variance is used in the KL computations\n",
    "        var = torch.cat([self.posterior_var[1:2], self.betas[1:]])\n",
    "        var = extract(var, t, x_t.shape)\n",
    "        \n",
    "        eps = self.model(x_t, t)\n",
    "        analyzer.eps.append(eps) # 儲存每一步驟的噪音\n",
    "        xt_prev_mean = self.predict_xt_prev_mean_from_eps(x_t, t, eps=eps)\n",
    "\n",
    "        return xt_prev_mean, var\n",
    "\n",
    "    def load_h_imformation(self):\n",
    "        return self.timestep_h_space\n",
    "\n",
    "    def forward(self, x_T, h_space=None):\n",
    "        \"\"\"\n",
    "        Algorithm 2.\n",
    "        \"\"\"\n",
    "        x_t = x_T\n",
    "        print(\"origin x_t\")\n",
    "        printImg = True\n",
    "        show_tensor_images_grid(tensor_data = x_t, printImg=printImg)\n",
    "        # 從 T= 1000 做到 0\n",
    "        for time_step in tqdm(reversed(range(self.endT, self.fromT))):\n",
    "            printImg = True\n",
    "            if (time_step+1) % 100 == 0 or time_step < 50:\n",
    "                printImg = True\n",
    "            else:\n",
    "                printImg = False\n",
    "            # print(\"time step: \", time_step)\n",
    "            # print(\"print img\", printImg)\n",
    "            #print(time_step)\n",
    "            t = x_t.new_ones([x_T.shape[0], ], dtype=torch.long) * time_step\n",
    "            # print(\"t one\")\n",
    "            # show_tensor_images_grid(tensor_data = x_t, printImg=printImg)\n",
    "            # 取得加噪要使用的 mean 和 variance\n",
    "            mean, var= self.p_mean_variance(x_t=x_t, t=t)\n",
    "            analyzer.mean.append(mean)\n",
    "            analyzer.var.append(var)\n",
    "            # no noise when t == 0\n",
    "            if time_step > 0:\n",
    "                noise = torch.randn_like(x_t)\n",
    "            else:\n",
    "                noise = 0\n",
    "            # 真正把噪音加入\n",
    "            x_t = mean + torch.sqrt(var) * noise\n",
    "            analyzer.img.append(x_t)\n",
    "            # print(\"add noise x_t\")\n",
    "            show_tensor_images_grid(tensor_data = x_t, printImg=printImg)\n",
    "            assert torch.isnan(x_t).int().sum() == 0, \"nan in tensor.\"\n",
    "            \n",
    "            if (time_step+1) % 100 == 0:\n",
    "                # 這邊要存個 噪音 eps 和去造的圖片\n",
    "                self.timestep_h_space.append(torch.clip(x_t, -1, 1))\n",
    "                \n",
    "                print(f'Timestep {time_step} add to h space information.')\n",
    "                print(\"h_space size\", torch.clip(x_t, -1, 1).shape)\n",
    "\n",
    "        x_0 = x_t\n",
    "\n",
    "\n",
    "\n",
    "        return torch.clip(x_0, -1, 1)\n",
    "\n"
   ]
  },
  {
   "cell_type": "code",
   "execution_count": 11,
   "metadata": {
    "execution": {
     "iopub.execute_input": "2025-04-17T11:55:43.823334Z",
     "iopub.status.busy": "2025-04-17T11:55:43.823071Z",
     "iopub.status.idle": "2025-04-17T11:55:43.844248Z",
     "shell.execute_reply": "2025-04-17T11:55:43.843512Z",
     "shell.execute_reply.started": "2025-04-17T11:55:43.823310Z"
    },
    "executionInfo": {
     "elapsed": 2016,
     "status": "ok",
     "timestamp": 1731338072901,
     "user": {
      "displayName": "劉浩元",
      "userId": "11236515194746078036"
     },
     "user_tz": -480
    },
    "id": "4vK50-ylFqya",
    "outputId": "64476cca-7a70-4389-8978-ea865e90af1a",
    "trusted": true
   },
   "outputs": [],
   "source": [
    "\n",
    "\n",
    "\n",
    "# Model\n",
    "class Swish(nn.Module):\n",
    "    def forward(self, x):\n",
    "        return x * torch.sigmoid(x)\n",
    "\n",
    "\n",
    "class TimeEmbedding(nn.Module):\n",
    "    def __init__(self, T, d_model, dim):\n",
    "        assert d_model % 2 == 0\n",
    "        super().__init__()\n",
    "        emb = torch.arange(0, d_model, step=2) / d_model * math.log(10000)\n",
    "        emb = torch.exp(-emb)\n",
    "        pos = torch.arange(T).float()\n",
    "        emb = pos[:, None] * emb[None, :]\n",
    "        assert list(emb.shape) == [T, d_model // 2]\n",
    "        emb = torch.stack([torch.sin(emb), torch.cos(emb)], dim=-1)\n",
    "        assert list(emb.shape) == [T, d_model // 2, 2]\n",
    "        emb = emb.view(T, d_model)\n",
    "\n",
    "        self.timembedding = nn.Sequential(\n",
    "            nn.Embedding.from_pretrained(emb),\n",
    "            nn.Linear(d_model, dim),\n",
    "            Swish(),\n",
    "            nn.Linear(dim, dim),\n",
    "        )\n",
    "        self.initialize()\n",
    "\n",
    "    def initialize(self):\n",
    "        for module in self.modules():\n",
    "            if isinstance(module, nn.Linear):\n",
    "                init.xavier_uniform_(module.weight)\n",
    "                init.zeros_(module.bias)\n",
    "\n",
    "    def forward(self, t):\n",
    "        emb = self.timembedding(t)\n",
    "        return emb\n",
    "\n",
    "\n",
    "class DownSample(nn.Module):\n",
    "    def __init__(self, in_ch):\n",
    "        super().__init__()\n",
    "        self.main = nn.Conv2d(in_ch, in_ch, 3, stride=2, padding=1)\n",
    "        self.initialize()\n",
    "\n",
    "    def initialize(self):\n",
    "        init.xavier_uniform_(self.main.weight)\n",
    "        init.zeros_(self.main.bias)\n",
    "\n",
    "    def forward(self, x, temb):\n",
    "        x = self.main(x)\n",
    "        return x\n",
    "\n",
    "\n",
    "class UpSample(nn.Module):\n",
    "    def __init__(self, in_ch):\n",
    "        super().__init__()\n",
    "        self.main = nn.Conv2d(in_ch, in_ch, 3, stride=1, padding=1)\n",
    "        self.initialize()\n",
    "\n",
    "    def initialize(self):\n",
    "        init.xavier_uniform_(self.main.weight)\n",
    "        init.zeros_(self.main.bias)\n",
    "\n",
    "    def forward(self, x, temb):\n",
    "        _, _, H, W = x.shape\n",
    "        # 把 x 放大兩倍\n",
    "        x = F.interpolate(\n",
    "            x, scale_factor=2, mode='nearest')\n",
    "        x = self.main(x)\n",
    "        return x\n",
    "\n",
    "\n",
    "class AttnBlock(nn.Module):\n",
    "    def __init__(self, in_ch):\n",
    "        super().__init__()\n",
    "        self.group_norm = nn.GroupNorm(32, in_ch)\n",
    "        self.proj_q = nn.Conv2d(in_ch, in_ch, 1, stride=1, padding=0)\n",
    "        self.proj_k = nn.Conv2d(in_ch, in_ch, 1, stride=1, padding=0)\n",
    "        self.proj_v = nn.Conv2d(in_ch, in_ch, 1, stride=1, padding=0)\n",
    "        self.proj = nn.Conv2d(in_ch, in_ch, 1, stride=1, padding=0)\n",
    "        self.initialize()\n",
    "\n",
    "    def initialize(self):\n",
    "        for module in [self.proj_q, self.proj_k, self.proj_v, self.proj]:\n",
    "            init.xavier_uniform_(module.weight)\n",
    "            init.zeros_(module.bias)\n",
    "        init.xavier_uniform_(self.proj.weight, gain=1e-5)\n",
    "\n",
    "    def forward(self, x):\n",
    "        B, C, H, W = x.shape\n",
    "        h = self.group_norm(x)\n",
    "        q = self.proj_q(h)\n",
    "        k = self.proj_k(h)\n",
    "        v = self.proj_v(h)\n",
    "\n",
    "        q = q.permute(0, 2, 3, 1).view(B, H * W, C)\n",
    "        k = k.view(B, C, H * W)\n",
    "        w = torch.bmm(q, k) * (int(C) ** (-0.5))\n",
    "        assert list(w.shape) == [B, H * W, H * W]\n",
    "        w = F.softmax(w, dim=-1)\n",
    "\n",
    "        v = v.permute(0, 2, 3, 1).view(B, H * W, C)\n",
    "        h = torch.bmm(w, v)\n",
    "        assert list(h.shape) == [B, H * W, C]\n",
    "        h = h.view(B, H, W, C).permute(0, 3, 1, 2)\n",
    "        h = self.proj(h)\n",
    "\n",
    "        return x + h\n",
    "\n",
    "\n",
    "class ResBlock(nn.Module):\n",
    "    def __init__(self, in_ch, out_ch, tdim, dropout, attn=False):\n",
    "        super().__init__()\n",
    "        self.block1 = nn.Sequential(\n",
    "            nn.GroupNorm(32, in_ch),\n",
    "            #  x * torch.sigmoid(x)\n",
    "            Swish(),\n",
    "            nn.Conv2d(in_ch, out_ch, 3, stride=1, padding=1),\n",
    "        )\n",
    "        self.temb_proj = nn.Sequential(\n",
    "            Swish(),\n",
    "            nn.Linear(tdim, out_ch),\n",
    "        )\n",
    "        self.block2 = nn.Sequential(\n",
    "            nn.GroupNorm(32, out_ch),\n",
    "            Swish(),\n",
    "            nn.Dropout(dropout),\n",
    "            nn.Conv2d(out_ch, out_ch, 3, stride=1, padding=1),\n",
    "        )\n",
    "        if in_ch != out_ch:\n",
    "            self.shortcut = nn.Conv2d(in_ch, out_ch, 1, stride=1, padding=0)\n",
    "        else:\n",
    "            self.shortcut = nn.Identity()\n",
    "        if attn:\n",
    "            self.attn = AttnBlock(out_ch)\n",
    "        else:\n",
    "            self.attn = nn.Identity()\n",
    "        self.initialize()\n",
    "\n",
    "    def initialize(self):\n",
    "        for module in self.modules():\n",
    "            if isinstance(module, (nn.Conv2d, nn.Linear)):\n",
    "                init.xavier_uniform_(module.weight)\n",
    "                init.zeros_(module.bias)\n",
    "        init.xavier_uniform_(self.block2[-1].weight, gain=1e-5)\n",
    "\n",
    "    def forward(self, x, temb):\n",
    "        h = self.block1(x)\n",
    "        h += self.temb_proj(temb)[:, :, None, None]\n",
    "        h = self.block2(h)\n",
    "\n",
    "        h = h + self.shortcut(x)\n",
    "        h = self.attn(h)\n",
    "        return h\n",
    "\n",
    "\n",
    "\n"
   ]
  },
  {
   "cell_type": "code",
   "execution_count": 12,
   "metadata": {},
   "outputs": [],
   "source": [
    "evalData = {}\n",
    "evalData['hspace'] = []\n",
    "evalData['pixel'] = []\n",
    "evalData['eps'] = []\n"
   ]
  },
  {
   "cell_type": "code",
   "execution_count": 13,
   "metadata": {
    "execution": {
     "iopub.execute_input": "2025-04-17T11:55:43.845971Z",
     "iopub.status.busy": "2025-04-17T11:55:43.845641Z",
     "iopub.status.idle": "2025-04-17T11:55:45.145066Z",
     "shell.execute_reply": "2025-04-17T11:55:45.144123Z",
     "shell.execute_reply.started": "2025-04-17T11:55:43.845935Z"
    },
    "trusted": true
   },
   "outputs": [
    {
     "name": "stdout",
     "output_type": "stream",
     "text": [
      "torch.Size([8, 3, 32, 32])\n"
     ]
    }
   ],
   "source": [
    "class UNet(nn.Module):\n",
    "    def __init__(self, T, ch, ch_mult, attn, num_res_blocks, dropout):\n",
    "        super().__init__()\n",
    "        assert all([i < len(ch_mult) for i in attn]), 'attn index out of bound'\n",
    "        tdim = ch * 4\n",
    "        self.time_embedding = TimeEmbedding(T, ch, tdim)\n",
    "\n",
    "        self.head = nn.Conv2d(3, ch, kernel_size=3, stride=1, padding=1)\n",
    "        self.downblocks = nn.ModuleList()\n",
    "        chs = [ch]  # record output channel when dowmsample for upsample\n",
    "        now_ch = ch\n",
    "        for i, mult in enumerate(ch_mult):\n",
    "            out_ch = ch * mult\n",
    "            for _ in range(num_res_blocks):\n",
    "                self.downblocks.append(ResBlock(\n",
    "                    in_ch=now_ch, out_ch=out_ch, tdim=tdim,\n",
    "                    dropout=dropout, attn=(i in attn)))\n",
    "                now_ch = out_ch\n",
    "                chs.append(now_ch)\n",
    "            if i != len(ch_mult) - 1:\n",
    "                self.downblocks.append(DownSample(now_ch))\n",
    "                chs.append(now_ch)\n",
    "\n",
    "        self.middleblocks = nn.ModuleList([\n",
    "            ResBlock(now_ch, now_ch, tdim, dropout, attn=True),\n",
    "            ResBlock(now_ch, now_ch, tdim, dropout, attn=False),\n",
    "        ])\n",
    "\n",
    "        self.upblocks = nn.ModuleList()\n",
    "        for i, mult in reversed(list(enumerate(ch_mult))):\n",
    "            out_ch = ch * mult\n",
    "            for _ in range(num_res_blocks + 1):\n",
    "                self.upblocks.append(ResBlock(\n",
    "                    in_ch=chs.pop() + now_ch, out_ch=out_ch, tdim=tdim,\n",
    "                    dropout=dropout, attn=(i in attn)))\n",
    "                now_ch = out_ch\n",
    "            if i != 0:\n",
    "                self.upblocks.append(UpSample(now_ch))\n",
    "        assert len(chs) == 0\n",
    "\n",
    "        self.tail = nn.Sequential(\n",
    "            nn.GroupNorm(32, now_ch),\n",
    "            Swish(),\n",
    "            nn.Conv2d(now_ch, 3, 3, stride=1, padding=1)\n",
    "        )\n",
    "        self.initialize()\n",
    "\n",
    "    def initialize(self):\n",
    "        init.xavier_uniform_(self.head.weight)\n",
    "        init.zeros_(self.head.bias)\n",
    "        init.xavier_uniform_(self.tail[-1].weight, gain=1e-5)\n",
    "        init.zeros_(self.tail[-1].bias)\n",
    "\n",
    "    def printlog(self):\n",
    "\n",
    "        # print(\"in UNet hspace \")\n",
    "        pass\n",
    "    def forward(self, x, t):\n",
    "        # Timestep embedding\n",
    "        temb = self.time_embedding(t)\n",
    "        # Downsampling\n",
    "        h = self.head(x)\n",
    "        hs = [h]\n",
    "        for layer in self.downblocks:\n",
    "            h = layer(h, temb)\n",
    "            hs.append(h)\n",
    "        # Middle\n",
    "        isMiddle = 1\n",
    "        for layer in self.middleblocks:\n",
    "            self.printlog()\n",
    "            h = layer(h, temb)\n",
    "            \n",
    "            if isMiddle == 1:\n",
    "                analyzer.hsapce.append(h)\n",
    "                # 儲存 h\n",
    "                \n",
    "            isMiddle = 0\n",
    "        # Upsampling\n",
    "        for layer in self.upblocks:\n",
    "            if isinstance(layer, ResBlock):\n",
    "                h = torch.cat([h, hs.pop()], dim=1)\n",
    "            h = layer(h, temb)\n",
    "        h = self.tail(h)\n",
    "\n",
    "        assert len(hs) == 0\n",
    "        return h\n",
    "\n",
    "    # 沒用到\n",
    "    def get_h_space(self, x, t):\n",
    "        # Timestep embedding\n",
    "        temb = self.time_embedding(t)\n",
    "        # Downsample\n",
    "\n",
    "        h = self.head(x)\n",
    "        for layer in self.downblocks:\n",
    "            h = layer(h, temb)\n",
    "\n",
    "        # Middle\n",
    "        for layer in self.middleblocks:\n",
    "            h = layer(h, temb)\n",
    "\n",
    "        return h\n",
    "    # 沒用到\n",
    "    def sample_from_h_space(self, x, t, new_h):\n",
    "        # Timestep embedding\n",
    "        temb = self.time_embedding(t)\n",
    "\n",
    "        # Downsampling\n",
    "        h = self.head(x)\n",
    "        hs = [h]\n",
    "        for layer in self.downblocks:\n",
    "            h = layer(h, temb)\n",
    "            hs.append(h)\n",
    "\n",
    "        # Middle\n",
    "        h = new_h\n",
    "\n",
    "        # Upsampling\n",
    "        for layer in self.upblocks:\n",
    "            if isinstance(layer, ResBlock):\n",
    "                h = torch.cat([h, hs.pop()], dim=1)\n",
    "            h = layer(h, temb)\n",
    "        h = self.tail(h)\n",
    "\n",
    "        assert len(hs) == 0\n",
    "        return h\n",
    "\n",
    "if __name__ == '__main__':\n",
    "    batch_size = 8\n",
    "    model = UNet(\n",
    "        T=1000, ch=128, ch_mult=[1, 2, 2, 2], attn=[1],\n",
    "        num_res_blocks=2, dropout=0.1)\n",
    "    x = torch.randn(batch_size, 3, 32, 32)\n",
    "    t = torch.randint(1000, (batch_size, ))\n",
    "    y = model(x, t)\n",
    "    print(y.shape)"
   ]
  },
  {
   "cell_type": "markdown",
   "metadata": {
    "id": "lNRuc04AGg0m"
   },
   "source": [
    "# Train"
   ]
  },
  {
   "cell_type": "code",
   "execution_count": 14,
   "metadata": {},
   "outputs": [],
   "source": [
    "train_dataset_golbal = None"
   ]
  },
  {
   "cell_type": "code",
   "execution_count": 15,
   "metadata": {
    "execution": {
     "iopub.execute_input": "2025-04-17T11:55:45.147993Z",
     "iopub.status.busy": "2025-04-17T11:55:45.147707Z",
     "iopub.status.idle": "2025-04-17T11:55:45.165134Z",
     "shell.execute_reply": "2025-04-17T11:55:45.164362Z",
     "shell.execute_reply.started": "2025-04-17T11:55:45.147967Z"
    },
    "executionInfo": {
     "elapsed": 11,
     "status": "ok",
     "timestamp": 1731338072901,
     "user": {
      "displayName": "劉浩元",
      "userId": "11236515194746078036"
     },
     "user_tz": -480
    },
    "id": "tpMa3HRxGe8X",
    "trusted": true
   },
   "outputs": [],
   "source": [
    "\n",
    "import os\n",
    "from typing import Dict\n",
    "\n",
    "import torch\n",
    "import torch.optim as optim\n",
    "from tqdm import tqdm\n",
    "from torch.utils.data import DataLoader\n",
    "from torchvision import transforms\n",
    "from torchvision.datasets import CIFAR10\n",
    "from torchvision.utils import save_image\n",
    "\n",
    "# from Model import GaussianDiffusionSampler, GaussianDiffusionTrainer, GradualWarmupScheduler, UNet\n",
    "# from Custom_dataset import CUSTOM_DATASET\n",
    "\n",
    "def train(args, modelConfig: Dict):\n",
    "    device = torch.device(modelConfig[\"device\"])\n",
    "    # dataset\n",
    "    \"\"\"\n",
    "    dataset = CIFAR10(\n",
    "        root='./CIFAR10', train=True, download=True,\n",
    "        transform=transforms.Compose([\n",
    "            transforms.RandomHorizontalFlip(),\n",
    "            transforms.ToTensor(),\n",
    "            transforms.Normalize((0.5, 0.5, 0.5), (0.5, 0.5, 0.5)),\n",
    "        ]))\n",
    "    \"\"\"\n",
    "    print(\"in training\")\n",
    "    dt = CUSTOM_DATASET(args)\n",
    "    print(\"got dataset\")\n",
    "    train_dataset, test_dataset = dt.load_dataset()\n",
    "    train_dataset_golbal = train_dataset\n",
    "    dataloader = DataLoader(\n",
    "        train_dataset, batch_size=modelConfig[\"batch_size\"], shuffle=True, num_workers=4, drop_last=True, pin_memory=True)\n",
    "    print(\"got dataloader\")\n",
    "    # model setup\n",
    "    net_model = UNet(T=modelConfig[\"T\"], ch=modelConfig[\"channel\"], ch_mult=modelConfig[\"channel_mult\"], attn=modelConfig[\"attn\"],\n",
    "                     num_res_blocks=modelConfig[\"num_res_blocks\"], dropout=modelConfig[\"dropout\"]).to(device)\n",
    "    print(\"got model\")\n",
    "    load_e = 0\n",
    "    if args['load_training_checkpoint'] > 0:\n",
    "        load_e += int(modelConfig[\"training_load_weight\"].split('_')[-2]) #load number of epochs\n",
    "        net_model.load_state_dict(torch.load(os.path.join(\n",
    "            modelConfig[\"save_weight_dir\"], modelConfig[\"training_load_weight\"]), map_location=device))\n",
    "    optimizer = torch.optim.AdamW(\n",
    "        net_model.parameters(), lr=modelConfig[\"lr\"], weight_decay=1e-4)\n",
    "    cosineScheduler = optim.lr_scheduler.CosineAnnealingLR(\n",
    "        optimizer=optimizer, T_max=modelConfig[\"epoch\"], eta_min=0, last_epoch=-1)\n",
    "    warmUpScheduler = GradualWarmupScheduler(\n",
    "        optimizer=optimizer, multiplier=modelConfig[\"multiplier\"], warm_epoch=modelConfig[\"epoch\"] // 10, after_scheduler=cosineScheduler)\n",
    "    trainer = GaussianDiffusionTrainer(\n",
    "        net_model, modelConfig[\"beta_1\"], modelConfig[\"beta_T\"], modelConfig[\"T\"]).to(device)\n",
    "    print(\"start training\")\n",
    "    # start training\n",
    "    for e in range(1, modelConfig[\"epoch\"]+1):\n",
    "        with tqdm(dataloader, dynamic_ncols=True) as tqdmDataLoader:\n",
    "            for images, labels in tqdmDataLoader:\n",
    "                # train\n",
    "                optimizer.zero_grad()\n",
    "                x_0 = images.to(device)\n",
    "                loss = trainer(x_0).sum() / 1000.\n",
    "                loss.backward()\n",
    "                torch.nn.utils.clip_grad_norm_(\n",
    "                    net_model.parameters(), modelConfig[\"grad_clip\"])\n",
    "                optimizer.step()\n",
    "                tqdmDataLoader.set_postfix(ordered_dict={\n",
    "                    \"epoch\": e + load_e,\n",
    "                    \"loss: \": loss.item(),\n",
    "                    \"img shape: \": x_0.shape,\n",
    "                    \"LR\": optimizer.state_dict()['param_groups'][0][\"lr\"]\n",
    "                })\n",
    "        warmUpScheduler.step()\n",
    "\n",
    "        if modelConfig[\"save_weight_dir\"][2:-1] not in os.listdir(os.getcwd()): # Only characters\n",
    "            os.mkdir(modelConfig[\"save_weight_dir\"])\n",
    "            print(\"have mkdir\")\n",
    "\n",
    "        if e > modelConfig[\"epoch\"] - 5 or e % 20  == 0 or e%50 == 0:\n",
    "            torch.save(net_model.state_dict(), os.path.join(\n",
    "                modelConfig[\"save_weight_dir\"], f'{str(args[\"split_class\"])}_ckpt_' + str(e+load_e) + \"_.pt\"))\n",
    "            print(\"have save\")\n",
    "\n",
    "def eval(args, modelConfig: Dict):\n",
    "    # load model and evaluate\n",
    "    with torch.no_grad():\n",
    "        # set device\n",
    "        device = torch.device(modelConfig[\"device\"])\n",
    "        # set the model form\n",
    "        model = UNet(T=modelConfig[\"T\"], ch=modelConfig[\"channel\"], ch_mult=modelConfig[\"channel_mult\"], attn=modelConfig[\"attn\"],\n",
    "                     num_res_blocks=modelConfig[\"num_res_blocks\"], dropout=0.)\n",
    "        # load previos weight 從指定的檔案\n",
    "        print(os.path.join(\n",
    "            modelConfig[\"save_weight_dir\"], modelConfig[\"test_load_weight\"]))\n",
    "        ckpt = torch.load(os.path.join(\n",
    "            modelConfig[\"save_weight_dir\"], modelConfig[\"test_load_weight\"]), map_location=device)\n",
    "        model.load_state_dict(ckpt)\n",
    "        print(\"model load weight done.\")\n",
    "\n",
    "        # set the entire model to eval type\n",
    "        model.eval()\n",
    "\n",
    "        # 初始化高斯擴散采样器 `GaussianDiffusionSampler`，這是用於從高斯噪聲中生成圖像的擴散模型\n",
    "        # 這裡傳入模型、beta 參數範圍，以及時間步長 `T`\n",
    "        # 整個去造的過程在裡面進行\n",
    "        sampler = GaussianDiffusionSampler(\n",
    "            model, modelConfig[\"beta_1\"], modelConfig[\"beta_T\"], modelConfig[\"T\"]).to(device)\n",
    "        # Sampled from standard normal distribution\n",
    "        noisyImage = torch.randn(\n",
    "            size=[modelConfig[\"batch_size\"], 3, 32, 32], device=device)\n",
    "        saveNoisy = torch.clamp(noisyImage * 0.5 + 0.5, 0, 1)\n",
    "\n",
    "        # 做一個資料夾來存放生成的圖像\n",
    "        if modelConfig[\"sampled_dir\"][2:-1] not in os.listdir(os.getcwd()): # Only characters\n",
    "            os.mkdir(modelConfig[\"sampled_dir\"])\n",
    "\n",
    "        save_image(saveNoisy, os.path.join(\n",
    "            modelConfig[\"sampled_dir\"], modelConfig[\"sampledNoisyImgName\"]), nrow=modelConfig[\"nrow\"])\n",
    "        sampledImgs = sampler(noisyImage)\n",
    "        sampledImgs = sampledImgs * 0.5 + 0.5  # [0 ~ 1]\n",
    "        save_image(sampledImgs, os.path.join(\n",
    "            modelConfig[\"sampled_dir\"],  modelConfig[\"sampledImgName\"]), nrow=modelConfig[\"nrow\"])"
   ]
  },
  {
   "cell_type": "code",
   "execution_count": 16,
   "metadata": {
    "execution": {
     "iopub.execute_input": "2025-04-17T11:55:45.166790Z",
     "iopub.status.busy": "2025-04-17T11:55:45.166447Z",
     "iopub.status.idle": "2025-04-17T11:55:45.180235Z",
     "shell.execute_reply": "2025-04-17T11:55:45.179433Z",
     "shell.execute_reply.started": "2025-04-17T11:55:45.166752Z"
    },
    "trusted": true
   },
   "outputs": [],
   "source": [
    "\n",
    "def eval_between(args, modelConfig: Dict, middleT = 500, order = '50ckpt'):\n",
    "    # load model and evaluate\n",
    "    with torch.no_grad():\n",
    "        fromT = 1000\n",
    "        endT = 0\n",
    "        first_path = '/kaggle/input/0to9-ckpt-50-shortddpm/pytorch/default/1/0 1 2 3 4 5 6 7 8 9_ckpt_50_.pt'\n",
    "        second_path = '/kaggle/input/0to9-ckpt10-shortddpm/pytorch/default/1/0 1 2 3 4 5 6 7 8 9_ckpt_10_ (2).pt'\n",
    "        if order == '10ckpt':\n",
    "            first_path, second_path = second_path, first_path\n",
    "        \n",
    "        \n",
    "        # set device\n",
    "        device = torch.device(modelConfig[\"device\"])\n",
    "\n",
    "        ## first half\n",
    "        \n",
    "        # set the model form\n",
    "        model_first = UNet(T=modelConfig[\"T\"], ch=modelConfig[\"channel\"], ch_mult=modelConfig[\"channel_mult\"], attn=modelConfig[\"attn\"],\n",
    "                     num_res_blocks=modelConfig[\"num_res_blocks\"], dropout=0.)\n",
    "        # load previos weight 從指定的檔案\n",
    "        print(first_path)\n",
    "        ckpt_first = torch.load(first_path, map_location=device)\n",
    "        model_first.load_state_dict(ckpt_first)\n",
    "        print(\"first model load weight done.\")\n",
    "\n",
    "        # set the entire model to eval type\n",
    "        model_first.eval()\n",
    "\n",
    "        # 初始化高斯擴散采样器 `GaussianDiffusionSampler`，這是用於從高斯噪聲中生成圖像的擴散模型\n",
    "        # 這裡傳入模型、beta 參數範圍，以及時間步長 `T`\n",
    "        # 整個去造的過程在裡面進行\n",
    "        sampler_first = GaussianDiffusionSampler(\n",
    "            model_first, modelConfig[\"beta_1\"], modelConfig[\"beta_T\"], modelConfig[\"T\"], fromT, middleT).to(device)\n",
    "        # Sampled from standard normal distribution\n",
    "        noisyImage = torch.randn(\n",
    "            size=[modelConfig[\"batch_size\"], 3, 32, 32], device=device)\n",
    "        saveNoisy = torch.clamp(noisyImage * 0.5 + 0.5, 0, 1)\n",
    "\n",
    "        # 做一個資料夾來存放生成的圖像\n",
    "        if modelConfig[\"sampled_dir\"][2:-1] not in os.listdir(os.getcwd()): # Only characters\n",
    "            os.mkdir(modelConfig[\"sampled_dir\"])\n",
    "\n",
    "        # save_image(saveNoisy, os.path.join(\n",
    "        #     modelConfig[\"sampled_dir\"], modelConfig[\"sampledNoisyImgName\"]), nrow=modelConfig[\"nrow\"])\n",
    "        sampledImgs_middle = sampler_first(noisyImage)\n",
    "        sampledImgs_middle_b = sampledImgs_middle * 0.5 + 0.5  # [0 ~ 1]\n",
    "        # save_image(sampledImgs, os.path.join(\n",
    "        #     modelConfig[\"sampled_dir\"],  modelConfig[\"sampledImgName\"]), nrow=modelConfig[\"nrow\"])\n",
    "\n",
    "        print(\"----- first model done -----\")\n",
    "        ## second half\n",
    "\n",
    "        # set the model form\n",
    "        model_second = UNet(T=modelConfig[\"T\"], ch=modelConfig[\"channel\"], ch_mult=modelConfig[\"channel_mult\"], attn=modelConfig[\"attn\"],\n",
    "                     num_res_blocks=modelConfig[\"num_res_blocks\"], dropout=0.)\n",
    "        # load previos weight 從指定的檔案\n",
    "        print(second_path)\n",
    "        ckpt_second = torch.load(second_path, map_location=device)\n",
    "        model_second.load_state_dict(ckpt_second)\n",
    "        print(\"second model load weight done.\")\n",
    "\n",
    "        # set the entire model to eval type\n",
    "        model_second.eval()\n",
    "\n",
    "        # 初始化高斯擴散采样器 `GaussianDiffusionSampler`，這是用於從高斯噪聲中生成圖像的擴散模型\n",
    "        # 這裡傳入模型、beta 參數範圍，以及時間步長 `T`\n",
    "        # 整個去造的過程在裡面進行\n",
    "        sampler_second = GaussianDiffusionSampler(\n",
    "            model_second, modelConfig[\"beta_1\"], modelConfig[\"beta_T\"], modelConfig[\"T\"], middleT, endT).to(device)\n",
    "        # Sampled from standard normal distribution\n",
    "        noisyImage = sampledImgs_middle\n",
    "        saveNoisy = torch.clamp(noisyImage * 0.5 + 0.5, 0, 1)\n",
    "\n",
    "        # 做一個資料夾來存放生成的圖像\n",
    "        if modelConfig[\"sampled_dir\"][2:-1] not in os.listdir(os.getcwd()): # Only characters\n",
    "            os.mkdir(modelConfig[\"sampled_dir\"])\n",
    "\n",
    "        # save_image(saveNoisy, os.path.join(\n",
    "        #     modelConfig[\"sampled_dir\"], modelConfig[\"sampledNoisyImgName\"]), nrow=modelConfig[\"nrow\"])\n",
    "        sampledImgs = sampler_second(noisyImage)\n",
    "        sampledImgs = sampledImgs_middle * 0.5 + 0.5  # [0 ~ 1]\n",
    "        # save_image(sampledImgs, os.path.join(\n",
    "        #     modelConfig[\"sampled_dir\"],  modelConfig[\"sampledImgName\"]), nrow=modelConfig[\"nrow\"])\n",
    "        print(\"===== second model done =====\\n\\n\")"
   ]
  },
  {
   "cell_type": "markdown",
   "metadata": {
    "id": "-1YzJFYnGkmN"
   },
   "source": [
    "# Seed"
   ]
  },
  {
   "cell_type": "code",
   "execution_count": 17,
   "metadata": {
    "execution": {
     "iopub.execute_input": "2025-04-17T11:55:45.181717Z",
     "iopub.status.busy": "2025-04-17T11:55:45.181442Z",
     "iopub.status.idle": "2025-04-17T11:55:45.191611Z",
     "shell.execute_reply": "2025-04-17T11:55:45.190845Z",
     "shell.execute_reply.started": "2025-04-17T11:55:45.181691Z"
    },
    "executionInfo": {
     "elapsed": 10,
     "status": "ok",
     "timestamp": 1731338072901,
     "user": {
      "displayName": "劉浩元",
      "userId": "11236515194746078036"
     },
     "user_tz": -480
    },
    "id": "l7E6OTipGjol",
    "trusted": true
   },
   "outputs": [],
   "source": [
    "import random\n",
    "import os\n",
    "import numpy as np\n",
    "import torch\n",
    "\n",
    "def seed_everything(seed=42):\n",
    "    random.seed(seed)\n",
    "    os.environ['PYTHONHASHSEED'] = str(seed)\n",
    "    np.random.seed(seed)\n",
    "    torch.manual_seed(seed)\n",
    "    torch.cuda.manual_seed(seed)\n",
    "    torch.backends.cudnn.deterministic = True\n"
   ]
  },
  {
   "cell_type": "markdown",
   "metadata": {
    "id": "oPDINSznGoS2"
   },
   "source": [
    "# Main"
   ]
  },
  {
   "cell_type": "code",
   "execution_count": 18,
   "metadata": {
    "execution": {
     "iopub.execute_input": "2025-04-17T11:55:45.192983Z",
     "iopub.status.busy": "2025-04-17T11:55:45.192694Z",
     "iopub.status.idle": "2025-04-17T12:16:35.927384Z",
     "shell.execute_reply": "2025-04-17T12:16:35.925158Z",
     "shell.execute_reply.started": "2025-04-17T11:55:45.192953Z"
    },
    "id": "J9_pGqUbGlw1",
    "outputId": "b634a24f-0d60-47b0-81ad-01c583279a53",
    "trusted": true
   },
   "outputs": [
    {
     "name": "stdout",
     "output_type": "stream",
     "text": [
      "MNIST\n",
      "Config : MNIST\n",
      "Successfully got argument\n",
      "./CheckpointsMNIST/200epoch.pt\n"
     ]
    },
    {
     "name": "stderr",
     "output_type": "stream",
     "text": [
      "C:\\Users\\9373k\\AppData\\Local\\Temp\\ipykernel_15588\\3155665063.py:93: FutureWarning: You are using `torch.load` with `weights_only=False` (the current default value), which uses the default pickle module implicitly. It is possible to construct malicious pickle data which will execute arbitrary code during unpickling (See https://github.com/pytorch/pytorch/blob/main/SECURITY.md#untrusted-models for more details). In a future release, the default value for `weights_only` will be flipped to `True`. This limits the functions that could be executed during unpickling. Arbitrary objects will no longer be allowed to be loaded via this mode unless they are explicitly allowlisted by the user via `torch.serialization.add_safe_globals`. We recommend you start setting `weights_only=True` for any use case where you don't have full control of the loaded file. Please open an issue on GitHub for any issues related to this experimental feature.\n",
      "  ckpt = torch.load(os.path.join(\n"
     ]
    },
    {
     "name": "stdout",
     "output_type": "stream",
     "text": [
      "model load weight done.\n",
      "origin x_t\n"
     ]
    },
    {
     "data": {
      "image/png": "[encoded data removed]",
      "text/plain": [
       "<Figure size 100x100 with 1 Axes>"
      ]
     },
     "metadata": {},
     "output_type": "display_data"
    },
    {
     "name": "stderr",
     "output_type": "stream",
     "text": [
      "0it [00:00, ?it/s]"
     ]
    },
    {
     "data": {
      "image/png": "[encoded data removed]",
      "text/plain": [
       "<Figure size 100x100 with 1 Axes>"
      ]
     },
     "metadata": {},
     "output_type": "display_data"
    },
    {
     "name": "stderr",
     "output_type": "stream",
     "text": [
      "6it [00:00, 14.32it/s]"
     ]
    },
    {
     "name": "stdout",
     "output_type": "stream",
     "text": [
      "Timestep 999 add to h space information.\n",
      "h_space size torch.Size([1, 3, 32, 32])\n"
     ]
    },
    {
     "name": "stderr",
     "output_type": "stream",
     "text": [
      "98it [00:03, 39.40it/s]"
     ]
    },
    {
     "data": {
      "image/png": "[encoded data removed]",
      "text/plain": [
       "<Figure size 100x100 with 1 Axes>"
      ]
     },
     "metadata": {},
     "output_type": "display_data"
    },
    {
     "name": "stderr",
     "output_type": "stream",
     "text": [
      "106it [00:03, 34.96it/s]"
     ]
    },
    {
     "name": "stdout",
     "output_type": "stream",
     "text": [
      "Timestep 899 add to h space information.\n",
      "h_space size torch.Size([1, 3, 32, 32])\n"
     ]
    },
    {
     "name": "stderr",
     "output_type": "stream",
     "text": [
      "199it [00:06, 32.64it/s]"
     ]
    },
    {
     "data": {
      "image/png": "[encoded data removed]",
      "text/plain": [
       "<Figure size 100x100 with 1 Axes>"
      ]
     },
     "metadata": {},
     "output_type": "display_data"
    },
    {
     "name": "stderr",
     "output_type": "stream",
     "text": [
      "207it [00:06, 32.74it/s]"
     ]
    },
    {
     "name": "stdout",
     "output_type": "stream",
     "text": [
      "Timestep 799 add to h space information.\n",
      "h_space size torch.Size([1, 3, 32, 32])\n"
     ]
    },
    {
     "name": "stderr",
     "output_type": "stream",
     "text": [
      "299it [00:09, 31.23it/s]"
     ]
    },
    {
     "data": {
      "image/png": "[encoded data removed]",
      "text/plain": [
       "<Figure size 100x100 with 1 Axes>"
      ]
     },
     "metadata": {},
     "output_type": "display_data"
    },
    {
     "name": "stderr",
     "output_type": "stream",
     "text": [
      "307it [00:10, 29.84it/s]"
     ]
    },
    {
     "name": "stdout",
     "output_type": "stream",
     "text": [
      "Timestep 699 add to h space information.\n",
      "h_space size torch.Size([1, 3, 32, 32])\n"
     ]
    },
    {
     "name": "stderr",
     "output_type": "stream",
     "text": [
      "397it [00:12, 30.98it/s]"
     ]
    },
    {
     "data": {
      "image/png": "[encoded data removed]",
      "text/plain": [
       "<Figure size 100x100 with 1 Axes>"
      ]
     },
     "metadata": {},
     "output_type": "display_data"
    },
    {
     "name": "stderr",
     "output_type": "stream",
     "text": [
      "404it [00:13, 28.56it/s]"
     ]
    },
    {
     "name": "stdout",
     "output_type": "stream",
     "text": [
      "Timestep 599 add to h space information.\n",
      "h_space size torch.Size([1, 3, 32, 32])\n"
     ]
    },
    {
     "name": "stderr",
     "output_type": "stream",
     "text": [
      "499it [00:16, 32.31it/s]"
     ]
    },
    {
     "data": {
      "image/png": "[encoded data removed]",
      "text/plain": [
       "<Figure size 100x100 with 1 Axes>"
      ]
     },
     "metadata": {},
     "output_type": "display_data"
    },
    {
     "name": "stderr",
     "output_type": "stream",
     "text": [
      "507it [00:16, 31.24it/s]"
     ]
    },
    {
     "name": "stdout",
     "output_type": "stream",
     "text": [
      "Timestep 499 add to h space information.\n",
      "h_space size torch.Size([1, 3, 32, 32])\n"
     ]
    },
    {
     "name": "stderr",
     "output_type": "stream",
     "text": [
      "598it [00:19, 38.62it/s]"
     ]
    },
    {
     "data": {
      "image/png": "[encoded data removed]",
      "text/plain": [
       "<Figure size 100x100 with 1 Axes>"
      ]
     },
     "metadata": {},
     "output_type": "display_data"
    },
    {
     "name": "stderr",
     "output_type": "stream",
     "text": [
      "606it [00:19, 36.82it/s]"
     ]
    },
    {
     "name": "stdout",
     "output_type": "stream",
     "text": [
      "Timestep 399 add to h space information.\n",
      "h_space size torch.Size([1, 3, 32, 32])\n"
     ]
    },
    {
     "name": "stderr",
     "output_type": "stream",
     "text": [
      "697it [00:21, 41.29it/s]"
     ]
    },
    {
     "data": {
      "image/png": "[encoded data removed]",
      "text/plain": [
       "<Figure size 100x100 with 1 Axes>"
      ]
     },
     "metadata": {},
     "output_type": "display_data"
    },
    {
     "name": "stderr",
     "output_type": "stream",
     "text": [
      "706it [00:21, 36.65it/s]"
     ]
    },
    {
     "name": "stdout",
     "output_type": "stream",
     "text": [
      "Timestep 299 add to h space information.\n",
      "h_space size torch.Size([1, 3, 32, 32])\n"
     ]
    },
    {
     "name": "stderr",
     "output_type": "stream",
     "text": [
      "799it [00:24, 37.47it/s]"
     ]
    },
    {
     "data": {
      "image/png": "[encoded data removed]",
      "text/plain": [
       "<Figure size 100x100 with 1 Axes>"
      ]
     },
     "metadata": {},
     "output_type": "display_data"
    },
    {
     "name": "stderr",
     "output_type": "stream",
     "text": [
      "807it [00:24, 36.51it/s]"
     ]
    },
    {
     "name": "stdout",
     "output_type": "stream",
     "text": [
      "Timestep 199 add to h space information.\n",
      "h_space size torch.Size([1, 3, 32, 32])\n"
     ]
    },
    {
     "name": "stderr",
     "output_type": "stream",
     "text": [
      "899it [00:27, 39.70it/s]"
     ]
    },
    {
     "data": {
      "image/png": "[encoded data removed]",
      "text/plain": [
       "<Figure size 100x100 with 1 Axes>"
      ]
     },
     "metadata": {},
     "output_type": "display_data"
    },
    {
     "name": "stderr",
     "output_type": "stream",
     "text": [
      "907it [00:27, 36.81it/s]"
     ]
    },
    {
     "name": "stdout",
     "output_type": "stream",
     "text": [
      "Timestep 99 add to h space information.\n",
      "h_space size torch.Size([1, 3, 32, 32])\n"
     ]
    },
    {
     "name": "stderr",
     "output_type": "stream",
     "text": [
      "948it [00:28, 32.04it/s]"
     ]
    },
    {
     "data": {
      "image/png": "[encoded data removed]",
      "text/plain": [
       "<Figure size 100x100 with 1 Axes>"
      ]
     },
     "metadata": {},
     "output_type": "display_data"
    },
    {
     "data": {
      "image/png": "[encoded data removed]",
      "text/plain": [
       "<Figure size 100x100 with 1 Axes>"
      ]
     },
     "metadata": {},
     "output_type": "display_data"
    },
    {
     "name": "stderr",
     "output_type": "stream",
     "text": [
      "952it [00:28, 29.06it/s]"
     ]
    },
    {
     "data": {
      "image/png": "[encoded data removed]",
      "text/plain": [
       "<Figure size 100x100 with 1 Axes>"
      ]
     },
     "metadata": {},
     "output_type": "display_data"
    },
    {
     "data": {
      "image/png": "[encoded data removed]",
      "text/plain": [
       "<Figure size 100x100 with 1 Axes>"
      ]
     },
     "metadata": {},
     "output_type": "display_data"
    },
    {
     "data": {
      "image/png": "[encoded data removed]",
      "text/plain": [
       "<Figure size 100x100 with 1 Axes>"
      ]
     },
     "metadata": {},
     "output_type": "display_data"
    },
    {
     "name": "stderr",
     "output_type": "stream",
     "text": [
      "955it [00:29, 26.30it/s]"
     ]
    },
    {
     "data": {
      "image/png": "[encoded data removed]",
      "text/plain": [
       "<Figure size 100x100 with 1 Axes>"
      ]
     },
     "metadata": {},
     "output_type": "display_data"
    },
    {
     "data": {
      "image/png": "[encoded data removed]",
      "text/plain": [
       "<Figure size 100x100 with 1 Axes>"
      ]
     },
     "metadata": {},
     "output_type": "display_data"
    },
    {
     "data": {
      "image/png": "[encoded data removed]",
      "text/plain": [
       "<Figure size 100x100 with 1 Axes>"
      ]
     },
     "metadata": {},
     "output_type": "display_data"
    },
    {
     "name": "stderr",
     "output_type": "stream",
     "text": [
      "958it [00:29, 24.35it/s]"
     ]
    },
    {
     "data": {
      "image/png": "[encoded data removed]",
      "text/plain": [
       "<Figure size 100x100 with 1 Axes>"
      ]
     },
     "metadata": {},
     "output_type": "display_data"
    },
    {
     "data": {
      "image/png": "[encoded data removed]",
      "text/plain": [
       "<Figure size 100x100 with 1 Axes>"
      ]
     },
     "metadata": {},
     "output_type": "display_data"
    },
    {
     "data": {
      "image/png": "[encoded data removed]",
      "text/plain": [
       "<Figure size 100x100 with 1 Axes>"
      ]
     },
     "metadata": {},
     "output_type": "display_data"
    },
    {
     "name": "stderr",
     "output_type": "stream",
     "text": [
      "961it [00:29, 24.04it/s]"
     ]
    },
    {
     "data": {
      "image/png": "[encoded data removed]",
      "text/plain": [
       "<Figure size 100x100 with 1 Axes>"
      ]
     },
     "metadata": {},
     "output_type": "display_data"
    },
    {
     "data": {
      "image/png": "[encoded data removed]",
      "text/plain": [
       "<Figure size 100x100 with 1 Axes>"
      ]
     },
     "metadata": {},
     "output_type": "display_data"
    },
    {
     "data": {
      "image/png": "[encoded data removed]",
      "text/plain": [
       "<Figure size 100x100 with 1 Axes>"
      ]
     },
     "metadata": {},
     "output_type": "display_data"
    },
    {
     "name": "stderr",
     "output_type": "stream",
     "text": [
      "964it [00:29, 23.67it/s]"
     ]
    },
    {
     "data": {
      "image/png": "[encoded data removed]",
      "text/plain": [
       "<Figure size 100x100 with 1 Axes>"
      ]
     },
     "metadata": {},
     "output_type": "display_data"
    },
    {
     "data": {
      "image/png": "[encoded data removed]",
      "text/plain": [
       "<Figure size 100x100 with 1 Axes>"
      ]
     },
     "metadata": {},
     "output_type": "display_data"
    },
    {
     "data": {
      "image/png": "[encoded data removed]",
      "text/plain": [
       "<Figure size 100x100 with 1 Axes>"
      ]
     },
     "metadata": {},
     "output_type": "display_data"
    },
    {
     "name": "stderr",
     "output_type": "stream",
     "text": [
      "967it [00:29, 22.78it/s]"
     ]
    },
    {
     "data": {
      "image/png": "[encoded data removed]",
      "text/plain": [
       "<Figure size 100x100 with 1 Axes>"
      ]
     },
     "metadata": {},
     "output_type": "display_data"
    },
    {
     "data": {
      "image/png": "[encoded data removed]",
      "text/plain": [
       "<Figure size 100x100 with 1 Axes>"
      ]
     },
     "metadata": {},
     "output_type": "display_data"
    },
    {
     "data": {
      "image/png": "[encoded data removed]",
      "text/plain": [
       "<Figure size 100x100 with 1 Axes>"
      ]
     },
     "metadata": {},
     "output_type": "display_data"
    },
    {
     "name": "stderr",
     "output_type": "stream",
     "text": [
      "970it [00:29, 21.41it/s]"
     ]
    },
    {
     "data": {
      "image/png": "[encoded data removed]",
      "text/plain": [
       "<Figure size 100x100 with 1 Axes>"
      ]
     },
     "metadata": {},
     "output_type": "display_data"
    },
    {
     "data": {
      "image/png": "[encoded data removed]",
      "text/plain": [
       "<Figure size 100x100 with 1 Axes>"
      ]
     },
     "metadata": {},
     "output_type": "display_data"
    },
    {
     "data": {
      "image/png": "[encoded data removed]",
      "text/plain": [
       "<Figure size 100x100 with 1 Axes>"
      ]
     },
     "metadata": {},
     "output_type": "display_data"
    },
    {
     "name": "stderr",
     "output_type": "stream",
     "text": [
      "973it [00:29, 20.68it/s]"
     ]
    },
    {
     "data": {
      "image/png": "[encoded data removed]",
      "text/plain": [
       "<Figure size 100x100 with 1 Axes>"
      ]
     },
     "metadata": {},
     "output_type": "display_data"
    },
    {
     "data": {
      "image/png": "[encoded data removed]",
      "text/plain": [
       "<Figure size 100x100 with 1 Axes>"
      ]
     },
     "metadata": {},
     "output_type": "display_data"
    },
    {
     "data": {
      "image/png": "[encoded data removed]",
      "text/plain": [
       "<Figure size 100x100 with 1 Axes>"
      ]
     },
     "metadata": {},
     "output_type": "display_data"
    },
    {
     "name": "stderr",
     "output_type": "stream",
     "text": [
      "976it [00:30, 21.20it/s]"
     ]
    },
    {
     "data": {
      "image/png": "[encoded data removed]",
      "text/plain": [
       "<Figure size 100x100 with 1 Axes>"
      ]
     },
     "metadata": {},
     "output_type": "display_data"
    },
    {
     "data": {
      "image/png": "[encoded data removed]",
      "text/plain": [
       "<Figure size 100x100 with 1 Axes>"
      ]
     },
     "metadata": {},
     "output_type": "display_data"
    },
    {
     "data": {
      "image/png": "[encoded data removed]",
      "text/plain": [
       "<Figure size 100x100 with 1 Axes>"
      ]
     },
     "metadata": {},
     "output_type": "display_data"
    },
    {
     "name": "stderr",
     "output_type": "stream",
     "text": [
      "979it [00:30, 19.40it/s]"
     ]
    },
    {
     "data": {
      "image/png": "[encoded data removed]",
      "text/plain": [
       "<Figure size 100x100 with 1 Axes>"
      ]
     },
     "metadata": {},
     "output_type": "display_data"
    },
    {
     "data": {
      "image/png": "[encoded data removed]",
      "text/plain": [
       "<Figure size 100x100 with 1 Axes>"
      ]
     },
     "metadata": {},
     "output_type": "display_data"
    },
    {
     "data": {
      "image/png": "[encoded data removed]",
      "text/plain": [
       "<Figure size 100x100 with 1 Axes>"
      ]
     },
     "metadata": {},
     "output_type": "display_data"
    },
    {
     "name": "stderr",
     "output_type": "stream",
     "text": [
      "982it [00:30, 19.75it/s]"
     ]
    },
    {
     "data": {
      "image/png": "[encoded data removed]",
      "text/plain": [
       "<Figure size 100x100 with 1 Axes>"
      ]
     },
     "metadata": {},
     "output_type": "display_data"
    },
    {
     "data": {
      "image/png": "[encoded data removed]",
      "text/plain": [
       "<Figure size 100x100 with 1 Axes>"
      ]
     },
     "metadata": {},
     "output_type": "display_data"
    },
    {
     "data": {
      "image/png": "[encoded data removed]",
      "text/plain": [
       "<Figure size 100x100 with 1 Axes>"
      ]
     },
     "metadata": {},
     "output_type": "display_data"
    },
    {
     "name": "stderr",
     "output_type": "stream",
     "text": [
      "985it [00:30, 20.45it/s]"
     ]
    },
    {
     "data": {
      "image/png": "[encoded data removed]",
      "text/plain": [
       "<Figure size 100x100 with 1 Axes>"
      ]
     },
     "metadata": {},
     "output_type": "display_data"
    },
    {
     "data": {
      "image/png": "[encoded data removed]",
      "text/plain": [
       "<Figure size 100x100 with 1 Axes>"
      ]
     },
     "metadata": {},
     "output_type": "display_data"
    },
    {
     "data": {
      "image/png": "[encoded data removed]",
      "text/plain": [
       "<Figure size 100x100 with 1 Axes>"
      ]
     },
     "metadata": {},
     "output_type": "display_data"
    },
    {
     "name": "stderr",
     "output_type": "stream",
     "text": [
      "988it [00:30, 20.52it/s]"
     ]
    },
    {
     "data": {
      "image/png": "[encoded data removed]",
      "text/plain": [
       "<Figure size 100x100 with 1 Axes>"
      ]
     },
     "metadata": {},
     "output_type": "display_data"
    },
    {
     "data": {
      "image/png": "[encoded data removed]",
      "text/plain": [
       "<Figure size 100x100 with 1 Axes>"
      ]
     },
     "metadata": {},
     "output_type": "display_data"
    },
    {
     "data": {
      "image/png": "[encoded data removed]",
      "text/plain": [
       "<Figure size 100x100 with 1 Axes>"
      ]
     },
     "metadata": {},
     "output_type": "display_data"
    },
    {
     "name": "stderr",
     "output_type": "stream",
     "text": [
      "991it [00:30, 19.92it/s]"
     ]
    },
    {
     "data": {
      "image/png": "[encoded data removed]",
      "text/plain": [
       "<Figure size 100x100 with 1 Axes>"
      ]
     },
     "metadata": {},
     "output_type": "display_data"
    },
    {
     "data": {
      "image/png": "[encoded data removed]",
      "text/plain": [
       "<Figure size 100x100 with 1 Axes>"
      ]
     },
     "metadata": {},
     "output_type": "display_data"
    },
    {
     "data": {
      "image/png": "[encoded data removed]",
      "text/plain": [
       "<Figure size 100x100 with 1 Axes>"
      ]
     },
     "metadata": {},
     "output_type": "display_data"
    },
    {
     "name": "stderr",
     "output_type": "stream",
     "text": [
      "994it [00:31, 18.35it/s]"
     ]
    },
    {
     "data": {
      "image/png": "[encoded data removed]",
      "text/plain": [
       "<Figure size 100x100 with 1 Axes>"
      ]
     },
     "metadata": {},
     "output_type": "display_data"
    },
    {
     "data": {
      "image/png": "[encoded data removed]",
      "text/plain": [
       "<Figure size 100x100 with 1 Axes>"
      ]
     },
     "metadata": {},
     "output_type": "display_data"
    },
    {
     "name": "stderr",
     "output_type": "stream",
     "text": [
      "996it [00:31, 17.82it/s]"
     ]
    },
    {
     "data": {
      "image/png": "[encoded data removed]",
      "text/plain": [
       "<Figure size 100x100 with 1 Axes>"
      ]
     },
     "metadata": {},
     "output_type": "display_data"
    },
    {
     "data": {
      "image/png": "[encoded data removed]",
      "text/plain": [
       "<Figure size 100x100 with 1 Axes>"
      ]
     },
     "metadata": {},
     "output_type": "display_data"
    },
    {
     "name": "stderr",
     "output_type": "stream",
     "text": [
      "998it [00:31, 17.60it/s]"
     ]
    },
    {
     "data": {
      "image/png": "[encoded data removed]",
      "text/plain": [
       "<Figure size 100x100 with 1 Axes>"
      ]
     },
     "metadata": {},
     "output_type": "display_data"
    },
    {
     "data": {
      "image/png": "[encoded data removed]",
      "text/plain": [
       "<Figure size 100x100 with 1 Axes>"
      ]
     },
     "metadata": {},
     "output_type": "display_data"
    },
    {
     "name": "stderr",
     "output_type": "stream",
     "text": [
      "1000it [00:31, 31.83it/s]\n"
     ]
    }
   ],
   "source": [
    "# Import necessary modules\n",
    "# from Train import train, eval\n",
    "# from Config import set_config\n",
    "import logging\n",
    "# from Utils import seed_everything\n",
    "import torch\n",
    "\n",
    "# Define the main training function\n",
    "def main_train(model_config=None):\n",
    "    modelConfig = {\n",
    "        \"state\": \"train\",  # or eval\n",
    "        \"epoch\": 50,\n",
    "        \"batch_size\": 4,\n",
    "        \"T\": 1000,\n",
    "        \"channel\": 128,\n",
    "        \"channel_mult\": [1, 2, 3, 4],\n",
    "        \"attn\": [2],\n",
    "        \"num_res_blocks\": 2,\n",
    "        \"dropout\": 0.15,\n",
    "        \"lr\": 1e-4,\n",
    "        \"multiplier\": 2.0,\n",
    "        \"beta_1\": 1e-4,\n",
    "        \"beta_T\": 0.02,\n",
    "        \"img_size\": 128,\n",
    "        \"grad_clip\": 1.0,\n",
    "        \"device\": \"cuda\" if torch.cuda.is_available() else \"cpu\",  # Auto-detect GPU availability\n",
    "        \"training_load_weight\": \"ckpt_19_.pt\",\n",
    "        \"save_weight_dir\": \"/content/Checkpoints/\",  # Adjusted for Colab\n",
    "        \"test_load_weight\": \"50epoch.pt\",\n",
    "        \"sampled_dir\": \"/content/SampledImgs/\",  # Adjusted for Colab\n",
    "        \"sampledNoisyImgName\": \"NoisyNoGuidenceImgs.png\",\n",
    "        \"sampledImgName\": \"SampledNoGuidenceImgs.png\",\n",
    "        \"nrow\": 8\n",
    "    }\n",
    "\n",
    "    if model_config is not None:\n",
    "        modelConfig = model_config\n",
    "\n",
    "    if modelConfig[\"state\"] == \"train\":\n",
    "        train(modelConfig)\n",
    "    else:\n",
    "        eval(modelConfig)\n",
    "\n",
    "# Define the main evaluation function\n",
    "def main_eval(model_config=None):\n",
    "    modelConfig = {\n",
    "        \"state\": \"eval\",  # or eval\n",
    "        \"epoch\": 10,\n",
    "        \"batch_size\": 8,\n",
    "        \"T\": 1000,\n",
    "        \"channel\": 128,\n",
    "        \"channel_mult\": [1, 2, 3, 4],\n",
    "        \"attn\": [2],\n",
    "        \"num_res_blocks\": 2,\n",
    "        \"dropout\": 0.15,\n",
    "        \"lr\": 1e-4,\n",
    "        \"multiplier\": 2.0,\n",
    "        \"beta_1\": 1e-4,\n",
    "        \"beta_T\": 0.02,\n",
    "        \"img_size\": 32,\n",
    "        \"grad_clip\": 1.0,\n",
    "        \"device\": \"cuda\" if torch.cuda.is_available() else \"cpu\",  # Auto-detect GPU availability\n",
    "        \"training_load_weight\": None,\n",
    "        \"save_weight_dir\": \"/content/Checkpoints/\",  # Adjusted for Colab\n",
    "        # \"test_load_weight\": \"ckpt_67_.pt\",\n",
    "        \"test_load_weight\": \"200epoch.pt\",\n",
    "        \"sampled_dir\": \"/content/SampledImgs/\",  # Adjusted for Colab\n",
    "        \"sampledNoisyImgName\": \"NoisyNoGuidenceImgs3314.png\",\n",
    "        \"sampledImgName\": \"SampledNoGuidenceImgs3314.png\",\n",
    "        \"nrow\": 8\n",
    "    }\n",
    "\n",
    "    if model_config is not None:\n",
    "        modelConfig = model_config\n",
    "\n",
    "    if modelConfig[\"state\"] == \"train\":\n",
    "        train(modelConfig)\n",
    "    else:\n",
    "        eval(modelConfig)\n",
    "\n",
    "# Set up the configuration and model arguments manually for Colab\n",
    "args = {\n",
    "    'seed': 42,\n",
    "    'state': 'train',  # Change to 'eval' for evaluation\n",
    "    # 'state': 'eval',\n",
    "    # 'dataset': 'CIFAR10',  # Select dataset from [Imagenet, CIFAR10, MNIST]\n",
    "    'dataset': 'MNIST',\n",
    "    'epochs': 200,\n",
    "    # 'epochs': 50,\n",
    "    # 'batch_size': 80,\n",
    "    'batch_size': 1, # 一次幾張圖片\n",
    "    'split_class': [0,1,2,3,4,5,6,7,8,9],  # Trained specific class of data 指定數字用這裡，可以塞很多數字\n",
    "    'load_training_checkpoint': 0,  # Load the number of trained epochs\n",
    "    \"test_load_weight\": \"200epoch.pt\",\n",
    "}\n",
    "\n",
    "# Set random seed\n",
    "# seed_everything(args['seed'])\n",
    "seed_everything(args['seed']+55)\n",
    "print(args['dataset'])\n",
    "\n",
    "\n",
    "# Get the model configuration\n",
    "model_config = set_config(args, custom_dataset=args['dataset'])\n",
    "\n",
    "# Log message to confirm configuration\n",
    "print(\"Successfully got argument\")\n",
    "analyzer.clean\n",
    "analyzer.config = model_config\n",
    "# train(args, model_config)\n",
    "eval(args, model_config)"
   ]
  },
  {
   "cell_type": "code",
   "execution_count": 19,
   "metadata": {},
   "outputs": [
    {
     "data": {
      "text/plain": [
       "1001"
      ]
     },
     "execution_count": 19,
     "metadata": {},
     "output_type": "execute_result"
    }
   ],
   "source": [
    "len(analyzer.hsapce)"
   ]
  },
  {
   "cell_type": "code",
   "execution_count": 20,
   "metadata": {},
   "outputs": [
    {
     "name": "stdout",
     "output_type": "stream",
     "text": [
      "None\n"
     ]
    }
   ],
   "source": [
    "print(train_dataset_golbal)"
   ]
  },
  {
   "cell_type": "markdown",
   "metadata": {},
   "source": [
    "# 自己的\n"
   ]
  },
  {
   "cell_type": "code",
   "execution_count": 21,
   "metadata": {},
   "outputs": [],
   "source": [
    "class GaussianDiffusionTrainer_addANoise(nn.Module):\n",
    "    def __init__(self, beta_1, beta_T, T):\n",
    "        super().__init__()\n",
    "        self.T = T\n",
    "        self.register_buffer(\n",
    "            'betas', torch.linspace(beta_1, beta_T, T).double())\n",
    "        alphas = 1. - self.betas\n",
    "        alphas_bar = torch.cumprod(alphas, dim=0)\n",
    "\n",
    "        # calculations for diffusion q(x_t | x_{t-1}) and others\n",
    "        self.register_buffer(\n",
    "            'sqrt_alphas_bar', torch.sqrt(alphas_bar))\n",
    "        self.register_buffer(\n",
    "            'sqrt_one_minus_alphas_bar', torch.sqrt(1. - alphas_bar))\n",
    "\n",
    "    def addNoise(self, x_0, t=None):\n",
    "        \"\"\"\n",
    "        Algorithm 1.\n",
    "        \"\"\"\n",
    "        if t is None:\n",
    "            t = torch.randint(self.T, size=(x_0.shape[0],), device=x_0.device)\n",
    "        noise = torch.randn_like(x_0)\n",
    "        x_t = (\n",
    "            extract(self.sqrt_alphas_bar, t, x_0.shape) * x_0 +\n",
    "            extract(self.sqrt_one_minus_alphas_bar, t, x_0.shape) * noise\n",
    "        )\n",
    "        return x_t\n"
   ]
  },
  {
   "cell_type": "code",
   "execution_count": 22,
   "metadata": {},
   "outputs": [],
   "source": [
    "from torchvision.datasets import MNIST\n",
    "from torchvision.transforms import ToTensor\n",
    "\n",
    "import matplotlib.pyplot as plt\n",
    "\n",
    "# 從 MNIST 資料集中拿出 0~9 各 32 張圖片和對應的標籤\n",
    "mnist_dataset = MNIST(root='./MNIST_ds', train=True, download=True, transform=ToTensor())\n",
    "images = {}\n",
    "\n",
    "for i in range(10):\n",
    "    count = 0\n",
    "    images[i] = []\n",
    "    for image, label in mnist_dataset:\n",
    "        if label == i:\n",
    "            images[i].append(image)\n",
    "            \n",
    "            count += 1\n",
    "            if count == 32:\n",
    "                break\n",
    "\n"
   ]
  },
  {
   "cell_type": "code",
   "execution_count": 23,
   "metadata": {},
   "outputs": [],
   "source": [
    "model_config\n",
    "# Initialize trainer and move to correct device\n",
    "trainer = GaussianDiffusionTrainer_addANoise(\n",
    "    beta_1=model_config[\"beta_1\"], \n",
    "    beta_T=model_config[\"beta_T\"], \n",
    "    T=model_config[\"T\"]\n",
    ").to(model_config[\"device\"])\n"
   ]
  },
  {
   "cell_type": "code",
   "execution_count": null,
   "metadata": {},
   "outputs": [],
   "source": []
  },
  {
   "cell_type": "code",
   "execution_count": 24,
   "metadata": {},
   "outputs": [],
   "source": [
    "# for x_0 in images:\n",
    "#     x_0 = x_0.unsqueeze(0)  # 增加 batch 維度\n",
    "#     t = torch.tensor([100], device=x_0.device)  # 設定時間步驟 t = 500\n",
    "#     x_t = trainer.addNoise(x_0, t=t)  # 添加噪音\n",
    "#     show_tensor_images_grid(x_t, printImg=True)"
   ]
  },
  {
   "cell_type": "code",
   "execution_count": 25,
   "metadata": {},
   "outputs": [
    {
     "data": {
      "text/plain": [
       "{'dataset': 'MNIST',\n",
       " 'state': 'train',\n",
       " 'epoch': 200,\n",
       " 'batch_size': 1,\n",
       " 'T': 1000,\n",
       " 'channel': 128,\n",
       " 'channel_mult': [1, 2, 3, 4],\n",
       " 'attn': [2],\n",
       " 'num_res_blocks': 2,\n",
       " 'dropout': 0.15,\n",
       " 'lr': 0.0001,\n",
       " 'multiplier': 2.0,\n",
       " 'beta_1': 0.0001,\n",
       " 'beta_T': 0.02,\n",
       " 'img_size': 128,\n",
       " 'grad_clip': 1.0,\n",
       " 'device': 'cuda:0',\n",
       " 'training_load_weight': '[0, 1, 2, 3, 4, 5, 6, 7, 8, 9]_ckpt_0_.pt',\n",
       " 'save_weight_dir': './CheckpointsMNIST/',\n",
       " 'test_load_weight': '200epoch.pt',\n",
       " 'sampled_dir': './SampledImgsMNIST/',\n",
       " 'sampledNoisyImgName': 'NoisyNoGuidenceImgs199.png',\n",
       " 'sampledImgName': 'SampledNoGuidenceImgs199.png',\n",
       " 'nrow': 8}"
      ]
     },
     "execution_count": 25,
     "metadata": {},
     "output_type": "execute_result"
    }
   ],
   "source": [
    "model_config"
   ]
  },
  {
   "cell_type": "code",
   "execution_count": null,
   "metadata": {},
   "outputs": [],
   "source": []
  },
  {
   "cell_type": "code",
   "execution_count": 26,
   "metadata": {},
   "outputs": [],
   "source": [
    "def eval_one_step(args, modelConfig: Dict, fromT=1000, endT=0, noisyImage=None):\n",
    "    # load model and evaluate\n",
    "    with torch.no_grad():\n",
    "        # set device\n",
    "        device = torch.device(modelConfig[\"device\"])\n",
    "        \n",
    "        # Add batch dimension if it's missing\n",
    "        if noisyImage.dim() == 3:\n",
    "            noisyImage = noisyImage.unsqueeze(0)\n",
    "        \n",
    "        # Convert grayscale (1 channel) to RGB (3 channels)\n",
    "        if noisyImage.shape[1] == 1:\n",
    "            noisyImage = noisyImage.repeat(1, 3, 1, 1)\n",
    "        \n",
    "        # Resize the image to 32x32 to ensure compatibility with the model\n",
    "        noisyImage = torch.nn.functional.interpolate(noisyImage, size=(32, 32), mode='bilinear')\n",
    "        \n",
    "        noisyImage = noisyImage.to(device)\n",
    "        \n",
    "        # Rest of the function remains the same\n",
    "        model = UNet(T=modelConfig[\"T\"], ch=modelConfig[\"channel\"], \n",
    "                    ch_mult=modelConfig[\"channel_mult\"], attn=modelConfig[\"attn\"],\n",
    "                    num_res_blocks=modelConfig[\"num_res_blocks\"], dropout=0.)\n",
    "        \n",
    "        # Load weights\n",
    "        model_path = os.path.join(modelConfig[\"save_weight_dir\"], modelConfig[\"test_load_weight\"])\n",
    "        print(model_path)\n",
    "        ckpt_first = torch.load(model_path, map_location=device)\n",
    "        model.load_state_dict(ckpt_first)\n",
    "        model.eval()\n",
    "        \n",
    "        # Create sampler\n",
    "        sampler = GaussianDiffusionSampler(\n",
    "            model, modelConfig[\"beta_1\"], modelConfig[\"beta_T\"], \n",
    "            modelConfig[\"T\"], fromT, endT).to(device)\n",
    "            \n",
    "        # Save noisy image\n",
    "        saveNoisy = torch.clamp(noisyImage * 0.5 + 0.5, 0, 1)\n",
    "        \n",
    "        if modelConfig[\"sampled_dir\"][2:-1] not in os.listdir(os.getcwd()):\n",
    "            os.mkdir(modelConfig[\"sampled_dir\"])\n",
    "        print(f\"Absolute path of the noisy image: {os.path.abspath(os.path.join(modelConfig['sampled_dir'], modelConfig['sampledNoisyImgName']))}\")\n",
    "        save_image(saveNoisy, os.path.join(\n",
    "            modelConfig[\"sampled_dir\"], modelConfig[\"sampledNoisyImgName\"]), \n",
    "            nrow=modelConfig[\"nrow\"])\n",
    "            \n",
    "        # Generate image\n",
    "        sampledImgs = sampler(noisyImage)\n",
    "        sampledImgs_middle_b = sampledImgs * 0.5 + 0.5  # [0 ~ 1]\n",
    "        \n",
    "        save_image(sampledImgs, os.path.join(\n",
    "            modelConfig[\"sampled_dir\"], modelConfig[\"sampledImgName\"]), \n",
    "            nrow=modelConfig[\"nrow\"])"
   ]
  },
  {
   "cell_type": "code",
   "execution_count": 27,
   "metadata": {},
   "outputs": [],
   "source": [
    "# analyzer.clean()\n",
    "# eval_step = eval_one_step(args,modelConfig=model_config, fromT=901, endT=900,noisyImage=images[0])"
   ]
  },
  {
   "cell_type": "code",
   "execution_count": 28,
   "metadata": {},
   "outputs": [
    {
     "name": "stdout",
     "output_type": "stream",
     "text": [
      "cuda:0\n",
      "True\n"
     ]
    }
   ],
   "source": [
    "# len(analyzer.hsapce)\n",
    "print(model_config[\"device\"])\n",
    "print(torch.cuda.is_available())"
   ]
  },
  {
   "cell_type": "code",
   "execution_count": 30,
   "metadata": {},
   "outputs": [],
   "source": [
    "experiment_data = {}"
   ]
  },
  {
   "cell_type": "code",
   "execution_count": 31,
   "metadata": {},
   "outputs": [
    {
     "name": "stderr",
     "output_type": "stream",
     "text": [
      "Processing Numbers:   0%|          | 0/10 [00:00<?, ?it/s]\n",
      "\u001b[A"
     ]
    },
    {
     "name": "stdout",
     "output_type": "stream",
     "text": [
      "Processing Number: 0, Image: 0, Step: 0\n",
      "clean analyze Raw Data\n",
      "./CheckpointsMNIST/200epoch.pt\n"
     ]
    },
    {
     "name": "stderr",
     "output_type": "stream",
     "text": [
      "C:\\Users\\9373k\\AppData\\Local\\Temp\\ipykernel_15588\\3472975122.py:28: FutureWarning: You are using `torch.load` with `weights_only=False` (the current default value), which uses the default pickle module implicitly. It is possible to construct malicious pickle data which will execute arbitrary code during unpickling (See https://github.com/pytorch/pytorch/blob/main/SECURITY.md#untrusted-models for more details). In a future release, the default value for `weights_only` will be flipped to `True`. This limits the functions that could be executed during unpickling. Arbitrary objects will no longer be allowed to be loaded via this mode unless they are explicitly allowlisted by the user via `torch.serialization.add_safe_globals`. We recommend you start setting `weights_only=True` for any use case where you don't have full control of the loaded file. Please open an issue on GitHub for any issues related to this experimental feature.\n",
      "  ckpt_first = torch.load(model_path, map_location=device)\n"
     ]
    },
    {
     "name": "stdout",
     "output_type": "stream",
     "text": [
      "Absolute path of the noisy image: c:\\coding\\Professer Proj\\unbalanceDDPM\\SampledImgsMNIST\\NoisyNoGuidenceImgs199.png\n",
      "origin x_t\n"
     ]
    },
    {
     "data": {
      "image/png": "[encoded data removed]",
      "text/plain": [
       "<Figure size 100x100 with 1 Axes>"
      ]
     },
     "metadata": {},
     "output_type": "display_data"
    },
    {
     "name": "stderr",
     "output_type": "stream",
     "text": [
      "\n",
      "\n",
      "0it [00:00, ?it/s]\n",
      "\n",
      "\u001b[A\n",
      "Processing Numbers:   0%|          | 0/10 [00:01<?, ?it/s]"
     ]
    },
    {
     "name": "stdout",
     "output_type": "stream",
     "text": [
      "Error processing timestep 0: cuDNN error: CUDNN_STATUS_BAD_PARAM_STREAM_MISMATCH\n",
      "Processing Number: 0, Image: 0, Step: 30\n",
      "clean analyze Raw Data\n"
     ]
    },
    {
     "name": "stderr",
     "output_type": "stream",
     "text": [
      "\n"
     ]
    },
    {
     "ename": "RuntimeError",
     "evalue": "CUDA error: device-side assert triggered\nCUDA kernel errors might be asynchronously reported at some other API call, so the stacktrace below might be incorrect.\nFor debugging consider passing CUDA_LAUNCH_BLOCKING=1\nCompile with `TORCH_USE_CUDA_DSA` to enable device-side assertions.\n",
     "output_type": "error",
     "traceback": [
      "\u001b[1;31m---------------------------------------------------------------------------\u001b[0m",
      "\u001b[1;31mRuntimeError\u001b[0m                              Traceback (most recent call last)",
      "Cell \u001b[1;32mIn[31], line 22\u001b[0m\n\u001b[0;32m     19\u001b[0m x_0 \u001b[38;5;241m=\u001b[39m images[number][image_order]\u001b[38;5;241m.\u001b[39munsqueeze(\u001b[38;5;241m0\u001b[39m)\u001b[38;5;241m.\u001b[39mcpu()\n\u001b[0;32m     21\u001b[0m \u001b[38;5;66;03m# Create timestep tensor on the same device as trainer\u001b[39;00m\n\u001b[1;32m---> 22\u001b[0m t \u001b[38;5;241m=\u001b[39m \u001b[43mtorch\u001b[49m\u001b[38;5;241;43m.\u001b[39;49m\u001b[43mtensor\u001b[49m\u001b[43m(\u001b[49m\u001b[43m[\u001b[49m\u001b[43mtime_step\u001b[49m\u001b[43m]\u001b[49m\u001b[43m,\u001b[49m\u001b[43m \u001b[49m\u001b[43mdevice\u001b[49m\u001b[38;5;241;43m=\u001b[39;49m\u001b[43mmodel_config\u001b[49m\u001b[43m[\u001b[49m\u001b[38;5;124;43m\"\u001b[39;49m\u001b[38;5;124;43mdevice\u001b[39;49m\u001b[38;5;124;43m\"\u001b[39;49m\u001b[43m]\u001b[49m\u001b[43m)\u001b[49m\n\u001b[0;32m     24\u001b[0m \u001b[38;5;66;03m# Move x_0 to the device before adding noise\u001b[39;00m\n\u001b[0;32m     25\u001b[0m x_0 \u001b[38;5;241m=\u001b[39m x_0\u001b[38;5;241m.\u001b[39mto(model_config[\u001b[38;5;124m\"\u001b[39m\u001b[38;5;124mdevice\u001b[39m\u001b[38;5;124m\"\u001b[39m])\n",
      "\u001b[1;31mRuntimeError\u001b[0m: CUDA error: device-side assert triggered\nCUDA kernel errors might be asynchronously reported at some other API call, so the stacktrace below might be incorrect.\nFor debugging consider passing CUDA_LAUNCH_BLOCKING=1\nCompile with `TORCH_USE_CUDA_DSA` to enable device-side assertions.\n"
     ]
    }
   ],
   "source": [
    "# Modify your experiment loop:\n",
    "for number in tqdm(range(10), desc=\"Processing Numbers\"):\n",
    "    experiment_data[number] = {}\n",
    "    \n",
    "    for image_order in tqdm(range(32), desc=f\"Processing Images for Number {number}\", leave=False):\n",
    "        experiment_data[number][image_order] = {\n",
    "            'hspace': [],\n",
    "            'img': [],\n",
    "            'eps': []\n",
    "        }\n",
    "\n",
    "        for time_step in tqdm(range(0, 1000, 30), desc=f\"Processing Timesteps\", leave=False):\n",
    "            print(f\"Processing Number: {number}, Image: {image_order}, Step: {time_step}\")\n",
    "            \n",
    "            # Clear the analyzer\n",
    "            analyzer.clean()\n",
    "\n",
    "            # Get the image, ensure it's on CPU first for the initial operations\n",
    "            x_0 = images[number][image_order].unsqueeze(0).cpu()\n",
    "            \n",
    "            # Create timestep tensor on the same device as trainer\n",
    "            t = torch.tensor([time_step], device=model_config[\"device\"])\n",
    "            \n",
    "            # Move x_0 to the device before adding noise\n",
    "            x_0 = x_0.to(model_config[\"device\"])\n",
    "            \n",
    "            # Add noise\n",
    "            try:\n",
    "                x_t = trainer.addNoise(x_0, t=t)\n",
    "                # No need for additional .to() call since it's already on the device\n",
    "                \n",
    "                # Perform evaluation\n",
    "                eval_one_step(\n",
    "                    args=args,\n",
    "                    modelConfig=model_config,\n",
    "                    fromT=time_step,\n",
    "                    endT=time_step - 1,\n",
    "                    noisyImage=x_t\n",
    "                )\n",
    "                \n",
    "                # Save data\n",
    "                experiment_data[number][image_order]['hspace'].append(analyzer.hsapce)\n",
    "                experiment_data[number][image_order]['img'].append(analyzer.img)\n",
    "                experiment_data[number][image_order]['eps'].append(analyzer.eps)\n",
    "            except Exception as e:\n",
    "                print(f\"Error processing timestep {time_step}: {e}\")\n",
    "                continue"
   ]
  },
  {
   "cell_type": "code",
   "execution_count": null,
   "metadata": {},
   "outputs": [],
   "source": [
    "import pickle\n",
    "# Save the experiment data to a file\n",
    "with open('experiment_data.pkl', 'wb') as f:\n",
    "    pickle.dump(experiment_data, f)\n",
    "    "
   ]
  },
  {
   "cell_type": "code",
   "execution_count": null,
   "metadata": {},
   "outputs": [],
   "source": []
  },
  {
   "cell_type": "code",
   "execution_count": null,
   "metadata": {},
   "outputs": [
    {
     "ename": "NameError",
     "evalue": "name 'model_config' is not defined",
     "output_type": "error",
     "traceback": [
      "\u001b[1;31m---------------------------------------------------------------------------\u001b[0m",
      "\u001b[1;31mNameError\u001b[0m                                 Traceback (most recent call last)",
      "Cell \u001b[1;32mIn[2], line 9\u001b[0m\n\u001b[0;32m      6\u001b[0m     \u001b[38;5;28;01mreturn\u001b[39;00m \u001b[38;5;124m\"\u001b[39m\u001b[38;5;124mcuda:0\u001b[39m\u001b[38;5;124m\"\u001b[39m  \u001b[38;5;66;03m# Or whichever GPU you want to use\u001b[39;00m\n\u001b[0;32m      8\u001b[0m \u001b[38;5;66;03m# Update the device in model_config\u001b[39;00m\n\u001b[1;32m----> 9\u001b[0m \u001b[43mmodel_config\u001b[49m[\u001b[38;5;124m\"\u001b[39m\u001b[38;5;124mdevice\u001b[39m\u001b[38;5;124m\"\u001b[39m] \u001b[38;5;241m=\u001b[39m check_cuda_available()\n",
      "\u001b[1;31mNameError\u001b[0m: name 'model_config' is not defined"
     ]
    }
   ],
   "source": [
    "import torch\n",
    "def check_cuda_available():\n",
    "    if not torch.cuda.is_available():\n",
    "        print(\"CUDA is not available! Using CPU instead.\")\n",
    "        return \"cpu\"\n",
    "    return \"cuda:0\"  # Or whichever GPU you want to use\n",
    "\n",
    "# Update the device in model_config\n",
    "model_config[\"device\"] = check_cuda_available()"
   ]
  },
  {
   "cell_type": "code",
   "execution_count": null,
   "metadata": {},
   "outputs": [],
   "source": []
  },
  {
   "cell_type": "code",
   "execution_count": null,
   "metadata": {},
   "outputs": [],
   "source": []
  },
  {
   "cell_type": "code",
   "execution_count": null,
   "metadata": {},
   "outputs": [],
   "source": []
  },
  {
   "cell_type": "code",
   "execution_count": null,
   "metadata": {},
   "outputs": [],
   "source": []
  },
  {
   "cell_type": "code",
   "execution_count": null,
   "metadata": {},
   "outputs": [],
   "source": []
  },
  {
   "cell_type": "code",
   "execution_count": null,
   "metadata": {},
   "outputs": [],
   "source": []
  },
  {
   "cell_type": "code",
   "execution_count": null,
   "metadata": {},
   "outputs": [],
   "source": []
  },
  {
   "cell_type": "code",
   "execution_count": null,
   "metadata": {},
   "outputs": [],
   "source": []
  },
  {
   "cell_type": "code",
   "execution_count": null,
   "metadata": {},
   "outputs": [],
   "source": []
  },
  {
   "cell_type": "code",
   "execution_count": null,
   "metadata": {},
   "outputs": [],
   "source": []
  },
  {
   "cell_type": "code",
   "execution_count": null,
   "metadata": {},
   "outputs": [],
   "source": []
  },
  {
   "cell_type": "code",
   "execution_count": null,
   "metadata": {},
   "outputs": [],
   "source": []
  },
  {
   "cell_type": "code",
   "execution_count": null,
   "metadata": {},
   "outputs": [],
   "source": []
  },
  {
   "cell_type": "code",
   "execution_count": null,
   "metadata": {},
   "outputs": [],
   "source": []
  },
  {
   "cell_type": "code",
   "execution_count": null,
   "metadata": {},
   "outputs": [],
   "source": []
  },
  {
   "cell_type": "code",
   "execution_count": null,
   "metadata": {},
   "outputs": [],
   "source": []
  }
 ],
 "metadata": {
  "accelerator": "GPU",
  "colab": {
   "authorship_tag": "ABX9TyMecVkCqqL/5CKMdOOz7cEN",
   "gpuType": "T4",
   "provenance": []
  },
  "kaggle": {
   "accelerator": "nvidiaTeslaT4",
   "dataSources": [
    {
     "isSourceIdPinned": true,
     "modelId": 173957,
     "modelInstanceId": 151502,
     "sourceId": 177842,
     "sourceType": "modelInstanceVersion"
    },
    {
     "isSourceIdPinned": true,
     "modelId": 173961,
     "modelInstanceId": 151506,
     "sourceId": 177846,
     "sourceType": "modelInstanceVersion"
    },
    {
     "isSourceIdPinned": true,
     "modelId": 173972,
     "modelInstanceId": 151517,
     "sourceId": 177858,
     "sourceType": "modelInstanceVersion"
    },
    {
     "isSourceIdPinned": true,
     "modelId": 173981,
     "modelInstanceId": 151529,
     "sourceId": 177874,
     "sourceType": "modelInstanceVersion"
    },
    {
     "isSourceIdPinned": true,
     "modelId": 182661,
     "modelInstanceId": 160286,
     "sourceId": 188014,
     "sourceType": "modelInstanceVersion"
    }
   ],
   "dockerImageVersionId": 30787,
   "isGpuEnabled": true,
   "isInternetEnabled": true,
   "language": "python",
   "sourceType": "notebook"
  },
  "kernelspec": {
   "display_name": "comfy",
   "language": "python",
   "name": "python3"
  },
  "language_info": {
   "codemirror_mode": {
    "name": "ipython",
    "version": 3
   },
   "file_extension": ".py",
   "mimetype": "text/x-python",
   "name": "python",
   "nbconvert_exporter": "python",
   "pygments_lexer": "ipython3",
   "version": "3.12.8"
  }
 },
 "nbformat": 4,
 "nbformat_minor": 4
}
